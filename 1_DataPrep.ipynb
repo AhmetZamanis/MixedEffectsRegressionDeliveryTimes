{
 "cells": [
  {
   "cell_type": "code",
   "execution_count": 1,
   "id": "e8ea8567-cae0-4ef7-9318-f8e68e6535f2",
   "metadata": {},
   "outputs": [],
   "source": [
    "import pandas as pd\n",
    "import numpy as np\n",
    "import matplotlib.pyplot as plt"
   ]
  },
  {
   "cell_type": "code",
   "execution_count": 2,
   "id": "0741648e-e3b4-44be-9e7d-a5fde9e4dc86",
   "metadata": {},
   "outputs": [],
   "source": [
    "# Set print options\n",
    "np.set_printoptions(suppress=True, precision=4, edgeitems = 7)\n",
    "pd.options.display.float_format = '{:.4f}'.format\n",
    "pd.set_option('display.max_columns', None)"
   ]
  },
  {
   "cell_type": "code",
   "execution_count": 3,
   "id": "efef0851-5832-4a08-abee-481be46c6525",
   "metadata": {},
   "outputs": [],
   "source": [
    "# Read data\n",
    "df = pd.read_csv(\"./InputData/historical_data.csv\")"
   ]
  },
  {
   "cell_type": "markdown",
   "id": "6cff8e7c-c758-4f15-8f1b-bc6e6b6854d0",
   "metadata": {},
   "source": [
    "# Inspection"
   ]
  },
  {
   "cell_type": "code",
   "execution_count": 4,
   "id": "fe4739df-2ac2-4df3-b935-83ab1dd587f4",
   "metadata": {},
   "outputs": [
    {
     "data": {
      "text/html": [
       "<div>\n",
       "<style scoped>\n",
       "    .dataframe tbody tr th:only-of-type {\n",
       "        vertical-align: middle;\n",
       "    }\n",
       "\n",
       "    .dataframe tbody tr th {\n",
       "        vertical-align: top;\n",
       "    }\n",
       "\n",
       "    .dataframe thead th {\n",
       "        text-align: right;\n",
       "    }\n",
       "</style>\n",
       "<table border=\"1\" class=\"dataframe\">\n",
       "  <thead>\n",
       "    <tr style=\"text-align: right;\">\n",
       "      <th></th>\n",
       "      <th>market_id</th>\n",
       "      <th>created_at</th>\n",
       "      <th>actual_delivery_time</th>\n",
       "      <th>store_id</th>\n",
       "      <th>store_primary_category</th>\n",
       "      <th>order_protocol</th>\n",
       "      <th>total_items</th>\n",
       "      <th>subtotal</th>\n",
       "      <th>num_distinct_items</th>\n",
       "      <th>min_item_price</th>\n",
       "      <th>max_item_price</th>\n",
       "      <th>total_onshift_dashers</th>\n",
       "      <th>total_busy_dashers</th>\n",
       "      <th>total_outstanding_orders</th>\n",
       "      <th>estimated_order_place_duration</th>\n",
       "      <th>estimated_store_to_consumer_driving_duration</th>\n",
       "    </tr>\n",
       "  </thead>\n",
       "  <tbody>\n",
       "    <tr>\n",
       "      <th>0</th>\n",
       "      <td>1.0000</td>\n",
       "      <td>2015-02-06 22:24:17</td>\n",
       "      <td>2015-02-06 23:27:16</td>\n",
       "      <td>1845</td>\n",
       "      <td>american</td>\n",
       "      <td>1.0000</td>\n",
       "      <td>4</td>\n",
       "      <td>3441</td>\n",
       "      <td>4</td>\n",
       "      <td>557</td>\n",
       "      <td>1239</td>\n",
       "      <td>33.0000</td>\n",
       "      <td>14.0000</td>\n",
       "      <td>21.0000</td>\n",
       "      <td>446</td>\n",
       "      <td>861.0000</td>\n",
       "    </tr>\n",
       "    <tr>\n",
       "      <th>1</th>\n",
       "      <td>2.0000</td>\n",
       "      <td>2015-02-10 21:49:25</td>\n",
       "      <td>2015-02-10 22:56:29</td>\n",
       "      <td>5477</td>\n",
       "      <td>mexican</td>\n",
       "      <td>2.0000</td>\n",
       "      <td>1</td>\n",
       "      <td>1900</td>\n",
       "      <td>1</td>\n",
       "      <td>1400</td>\n",
       "      <td>1400</td>\n",
       "      <td>1.0000</td>\n",
       "      <td>2.0000</td>\n",
       "      <td>2.0000</td>\n",
       "      <td>446</td>\n",
       "      <td>690.0000</td>\n",
       "    </tr>\n",
       "    <tr>\n",
       "      <th>2</th>\n",
       "      <td>3.0000</td>\n",
       "      <td>2015-01-22 20:39:28</td>\n",
       "      <td>2015-01-22 21:09:09</td>\n",
       "      <td>5477</td>\n",
       "      <td>NaN</td>\n",
       "      <td>1.0000</td>\n",
       "      <td>1</td>\n",
       "      <td>1900</td>\n",
       "      <td>1</td>\n",
       "      <td>1900</td>\n",
       "      <td>1900</td>\n",
       "      <td>1.0000</td>\n",
       "      <td>0.0000</td>\n",
       "      <td>0.0000</td>\n",
       "      <td>446</td>\n",
       "      <td>690.0000</td>\n",
       "    </tr>\n",
       "    <tr>\n",
       "      <th>3</th>\n",
       "      <td>3.0000</td>\n",
       "      <td>2015-02-03 21:21:45</td>\n",
       "      <td>2015-02-03 22:13:00</td>\n",
       "      <td>5477</td>\n",
       "      <td>NaN</td>\n",
       "      <td>1.0000</td>\n",
       "      <td>6</td>\n",
       "      <td>6900</td>\n",
       "      <td>5</td>\n",
       "      <td>600</td>\n",
       "      <td>1800</td>\n",
       "      <td>1.0000</td>\n",
       "      <td>1.0000</td>\n",
       "      <td>2.0000</td>\n",
       "      <td>446</td>\n",
       "      <td>289.0000</td>\n",
       "    </tr>\n",
       "    <tr>\n",
       "      <th>4</th>\n",
       "      <td>3.0000</td>\n",
       "      <td>2015-02-15 02:40:36</td>\n",
       "      <td>2015-02-15 03:20:26</td>\n",
       "      <td>5477</td>\n",
       "      <td>NaN</td>\n",
       "      <td>1.0000</td>\n",
       "      <td>3</td>\n",
       "      <td>3900</td>\n",
       "      <td>3</td>\n",
       "      <td>1100</td>\n",
       "      <td>1600</td>\n",
       "      <td>6.0000</td>\n",
       "      <td>6.0000</td>\n",
       "      <td>9.0000</td>\n",
       "      <td>446</td>\n",
       "      <td>650.0000</td>\n",
       "    </tr>\n",
       "  </tbody>\n",
       "</table>\n",
       "</div>"
      ],
      "text/plain": [
       "   market_id           created_at actual_delivery_time  store_id  \\\n",
       "0     1.0000  2015-02-06 22:24:17  2015-02-06 23:27:16      1845   \n",
       "1     2.0000  2015-02-10 21:49:25  2015-02-10 22:56:29      5477   \n",
       "2     3.0000  2015-01-22 20:39:28  2015-01-22 21:09:09      5477   \n",
       "3     3.0000  2015-02-03 21:21:45  2015-02-03 22:13:00      5477   \n",
       "4     3.0000  2015-02-15 02:40:36  2015-02-15 03:20:26      5477   \n",
       "\n",
       "  store_primary_category  order_protocol  total_items  subtotal  \\\n",
       "0               american          1.0000            4      3441   \n",
       "1                mexican          2.0000            1      1900   \n",
       "2                    NaN          1.0000            1      1900   \n",
       "3                    NaN          1.0000            6      6900   \n",
       "4                    NaN          1.0000            3      3900   \n",
       "\n",
       "   num_distinct_items  min_item_price  max_item_price  total_onshift_dashers  \\\n",
       "0                   4             557            1239                33.0000   \n",
       "1                   1            1400            1400                 1.0000   \n",
       "2                   1            1900            1900                 1.0000   \n",
       "3                   5             600            1800                 1.0000   \n",
       "4                   3            1100            1600                 6.0000   \n",
       "\n",
       "   total_busy_dashers  total_outstanding_orders  \\\n",
       "0             14.0000                   21.0000   \n",
       "1              2.0000                    2.0000   \n",
       "2              0.0000                    0.0000   \n",
       "3              1.0000                    2.0000   \n",
       "4              6.0000                    9.0000   \n",
       "\n",
       "   estimated_order_place_duration  \\\n",
       "0                             446   \n",
       "1                             446   \n",
       "2                             446   \n",
       "3                             446   \n",
       "4                             446   \n",
       "\n",
       "   estimated_store_to_consumer_driving_duration  \n",
       "0                                      861.0000  \n",
       "1                                      690.0000  \n",
       "2                                      690.0000  \n",
       "3                                      289.0000  \n",
       "4                                      650.0000  "
      ]
     },
     "execution_count": 4,
     "metadata": {},
     "output_type": "execute_result"
    }
   ],
   "source": [
    "df.head()"
   ]
  },
  {
   "cell_type": "markdown",
   "id": "a8a3f687-f3dc-4190-9caf-1167962a4f75",
   "metadata": {},
   "source": [
    "- market_id: City / region\n",
    "- order_protocol: The channel from which the order was received\n",
    "- subtotal, min, max price: In cents.\n",
    "- total_onshift_dashers: Number of Dashers within 10 miles of the order at creation\n",
    "- total_busy_dashers: Subset of the above which are currently working on another order\n",
    "- total_outstanding_orders: Number of orders being processed within 10 miles\n",
    "- estimated_order_place_duration: Estimated time it took for the restaurant to receive the order from DoorDash (in seconds)\n",
    "- estimated_store_to_consumer_driving_duration: In seconds."
   ]
  },
  {
   "cell_type": "code",
   "execution_count": 5,
   "id": "a8d415ab-e595-4ae2-a57e-19eade5017a8",
   "metadata": {},
   "outputs": [
    {
     "data": {
      "text/html": [
       "<div>\n",
       "<style scoped>\n",
       "    .dataframe tbody tr th:only-of-type {\n",
       "        vertical-align: middle;\n",
       "    }\n",
       "\n",
       "    .dataframe tbody tr th {\n",
       "        vertical-align: top;\n",
       "    }\n",
       "\n",
       "    .dataframe thead th {\n",
       "        text-align: right;\n",
       "    }\n",
       "</style>\n",
       "<table border=\"1\" class=\"dataframe\">\n",
       "  <thead>\n",
       "    <tr style=\"text-align: right;\">\n",
       "      <th></th>\n",
       "      <th>market_id</th>\n",
       "      <th>store_id</th>\n",
       "      <th>order_protocol</th>\n",
       "      <th>total_items</th>\n",
       "      <th>subtotal</th>\n",
       "      <th>num_distinct_items</th>\n",
       "      <th>min_item_price</th>\n",
       "      <th>max_item_price</th>\n",
       "      <th>total_onshift_dashers</th>\n",
       "      <th>total_busy_dashers</th>\n",
       "      <th>total_outstanding_orders</th>\n",
       "      <th>estimated_order_place_duration</th>\n",
       "      <th>estimated_store_to_consumer_driving_duration</th>\n",
       "    </tr>\n",
       "  </thead>\n",
       "  <tbody>\n",
       "    <tr>\n",
       "      <th>count</th>\n",
       "      <td>196441.0000</td>\n",
       "      <td>197428.0000</td>\n",
       "      <td>196433.0000</td>\n",
       "      <td>197428.0000</td>\n",
       "      <td>197428.0000</td>\n",
       "      <td>197428.0000</td>\n",
       "      <td>197428.0000</td>\n",
       "      <td>197428.0000</td>\n",
       "      <td>181166.0000</td>\n",
       "      <td>181166.0000</td>\n",
       "      <td>181166.0000</td>\n",
       "      <td>197428.0000</td>\n",
       "      <td>196902.0000</td>\n",
       "    </tr>\n",
       "    <tr>\n",
       "      <th>mean</th>\n",
       "      <td>2.9787</td>\n",
       "      <td>3530.5103</td>\n",
       "      <td>2.8824</td>\n",
       "      <td>3.1964</td>\n",
       "      <td>2682.3314</td>\n",
       "      <td>2.6708</td>\n",
       "      <td>686.2185</td>\n",
       "      <td>1159.5886</td>\n",
       "      <td>44.8081</td>\n",
       "      <td>41.7397</td>\n",
       "      <td>58.0501</td>\n",
       "      <td>308.5602</td>\n",
       "      <td>545.3589</td>\n",
       "    </tr>\n",
       "    <tr>\n",
       "      <th>std</th>\n",
       "      <td>1.5249</td>\n",
       "      <td>2053.4967</td>\n",
       "      <td>1.5038</td>\n",
       "      <td>2.6665</td>\n",
       "      <td>1823.0937</td>\n",
       "      <td>1.6303</td>\n",
       "      <td>522.0386</td>\n",
       "      <td>558.4114</td>\n",
       "      <td>34.5268</td>\n",
       "      <td>32.1457</td>\n",
       "      <td>52.6618</td>\n",
       "      <td>90.1397</td>\n",
       "      <td>219.3529</td>\n",
       "    </tr>\n",
       "    <tr>\n",
       "      <th>min</th>\n",
       "      <td>1.0000</td>\n",
       "      <td>1.0000</td>\n",
       "      <td>1.0000</td>\n",
       "      <td>1.0000</td>\n",
       "      <td>0.0000</td>\n",
       "      <td>1.0000</td>\n",
       "      <td>-86.0000</td>\n",
       "      <td>0.0000</td>\n",
       "      <td>-4.0000</td>\n",
       "      <td>-5.0000</td>\n",
       "      <td>-6.0000</td>\n",
       "      <td>0.0000</td>\n",
       "      <td>0.0000</td>\n",
       "    </tr>\n",
       "    <tr>\n",
       "      <th>25%</th>\n",
       "      <td>2.0000</td>\n",
       "      <td>1686.0000</td>\n",
       "      <td>1.0000</td>\n",
       "      <td>2.0000</td>\n",
       "      <td>1400.0000</td>\n",
       "      <td>1.0000</td>\n",
       "      <td>299.0000</td>\n",
       "      <td>800.0000</td>\n",
       "      <td>17.0000</td>\n",
       "      <td>15.0000</td>\n",
       "      <td>17.0000</td>\n",
       "      <td>251.0000</td>\n",
       "      <td>382.0000</td>\n",
       "    </tr>\n",
       "    <tr>\n",
       "      <th>50%</th>\n",
       "      <td>3.0000</td>\n",
       "      <td>3592.0000</td>\n",
       "      <td>3.0000</td>\n",
       "      <td>3.0000</td>\n",
       "      <td>2200.0000</td>\n",
       "      <td>2.0000</td>\n",
       "      <td>595.0000</td>\n",
       "      <td>1095.0000</td>\n",
       "      <td>37.0000</td>\n",
       "      <td>34.0000</td>\n",
       "      <td>41.0000</td>\n",
       "      <td>251.0000</td>\n",
       "      <td>544.0000</td>\n",
       "    </tr>\n",
       "    <tr>\n",
       "      <th>75%</th>\n",
       "      <td>4.0000</td>\n",
       "      <td>5299.0000</td>\n",
       "      <td>4.0000</td>\n",
       "      <td>4.0000</td>\n",
       "      <td>3395.0000</td>\n",
       "      <td>3.0000</td>\n",
       "      <td>949.0000</td>\n",
       "      <td>1395.0000</td>\n",
       "      <td>65.0000</td>\n",
       "      <td>62.0000</td>\n",
       "      <td>85.0000</td>\n",
       "      <td>446.0000</td>\n",
       "      <td>702.0000</td>\n",
       "    </tr>\n",
       "    <tr>\n",
       "      <th>max</th>\n",
       "      <td>6.0000</td>\n",
       "      <td>6987.0000</td>\n",
       "      <td>7.0000</td>\n",
       "      <td>411.0000</td>\n",
       "      <td>27100.0000</td>\n",
       "      <td>20.0000</td>\n",
       "      <td>14700.0000</td>\n",
       "      <td>14700.0000</td>\n",
       "      <td>171.0000</td>\n",
       "      <td>154.0000</td>\n",
       "      <td>285.0000</td>\n",
       "      <td>2715.0000</td>\n",
       "      <td>2088.0000</td>\n",
       "    </tr>\n",
       "  </tbody>\n",
       "</table>\n",
       "</div>"
      ],
      "text/plain": [
       "        market_id    store_id  order_protocol  total_items    subtotal  \\\n",
       "count 196441.0000 197428.0000     196433.0000  197428.0000 197428.0000   \n",
       "mean       2.9787   3530.5103          2.8824       3.1964   2682.3314   \n",
       "std        1.5249   2053.4967          1.5038       2.6665   1823.0937   \n",
       "min        1.0000      1.0000          1.0000       1.0000      0.0000   \n",
       "25%        2.0000   1686.0000          1.0000       2.0000   1400.0000   \n",
       "50%        3.0000   3592.0000          3.0000       3.0000   2200.0000   \n",
       "75%        4.0000   5299.0000          4.0000       4.0000   3395.0000   \n",
       "max        6.0000   6987.0000          7.0000     411.0000  27100.0000   \n",
       "\n",
       "       num_distinct_items  min_item_price  max_item_price  \\\n",
       "count         197428.0000     197428.0000     197428.0000   \n",
       "mean               2.6708        686.2185       1159.5886   \n",
       "std                1.6303        522.0386        558.4114   \n",
       "min                1.0000        -86.0000          0.0000   \n",
       "25%                1.0000        299.0000        800.0000   \n",
       "50%                2.0000        595.0000       1095.0000   \n",
       "75%                3.0000        949.0000       1395.0000   \n",
       "max               20.0000      14700.0000      14700.0000   \n",
       "\n",
       "       total_onshift_dashers  total_busy_dashers  total_outstanding_orders  \\\n",
       "count            181166.0000         181166.0000               181166.0000   \n",
       "mean                 44.8081             41.7397                   58.0501   \n",
       "std                  34.5268             32.1457                   52.6618   \n",
       "min                  -4.0000             -5.0000                   -6.0000   \n",
       "25%                  17.0000             15.0000                   17.0000   \n",
       "50%                  37.0000             34.0000                   41.0000   \n",
       "75%                  65.0000             62.0000                   85.0000   \n",
       "max                 171.0000            154.0000                  285.0000   \n",
       "\n",
       "       estimated_order_place_duration  \\\n",
       "count                     197428.0000   \n",
       "mean                         308.5602   \n",
       "std                           90.1397   \n",
       "min                            0.0000   \n",
       "25%                          251.0000   \n",
       "50%                          251.0000   \n",
       "75%                          446.0000   \n",
       "max                         2715.0000   \n",
       "\n",
       "       estimated_store_to_consumer_driving_duration  \n",
       "count                                   196902.0000  \n",
       "mean                                       545.3589  \n",
       "std                                        219.3529  \n",
       "min                                          0.0000  \n",
       "25%                                        382.0000  \n",
       "50%                                        544.0000  \n",
       "75%                                        702.0000  \n",
       "max                                       2088.0000  "
      ]
     },
     "execution_count": 5,
     "metadata": {},
     "output_type": "execute_result"
    }
   ],
   "source": [
    "df.describe()"
   ]
  },
  {
   "cell_type": "markdown",
   "id": "5b5e01e6-086e-420e-aa38-258d7b13207d",
   "metadata": {},
   "source": [
    "- 197.428 rows\n",
    "- Rows with zero subtotal?\n",
    "- Rows with zero / negative min-max price? Doesn't make sense, drop\n",
    "- Rows with negative Dashers / outstanding orders? As above\n",
    "- Rows with zero estimated order placement & trip duration? Former's likely fine. Drop the latter below a certain value"
   ]
  },
  {
   "cell_type": "code",
   "execution_count": 6,
   "id": "801f7e2d-37d3-49d3-ab38-df1480c272b3",
   "metadata": {},
   "outputs": [],
   "source": [
    "# Threshold for driving duration\n",
    "thresh_driving = 20"
   ]
  },
  {
   "cell_type": "code",
   "execution_count": 7,
   "id": "a3b10bea-73cf-4c27-a422-55ca2895a0bc",
   "metadata": {},
   "outputs": [
    {
     "data": {
      "text/plain": [
       "market_id                                         987\n",
       "created_at                                          0\n",
       "actual_delivery_time                                7\n",
       "store_id                                            0\n",
       "store_primary_category                           4760\n",
       "order_protocol                                    995\n",
       "total_items                                         0\n",
       "subtotal                                            0\n",
       "num_distinct_items                                  0\n",
       "min_item_price                                      0\n",
       "max_item_price                                      0\n",
       "total_onshift_dashers                           16262\n",
       "total_busy_dashers                              16262\n",
       "total_outstanding_orders                        16262\n",
       "estimated_order_place_duration                      0\n",
       "estimated_store_to_consumer_driving_duration      526\n",
       "dtype: int64"
      ]
     },
     "execution_count": 7,
     "metadata": {},
     "output_type": "execute_result"
    }
   ],
   "source": [
    "# Check missing values\n",
    "pd.isnull(df).sum()"
   ]
  },
  {
   "cell_type": "markdown",
   "id": "2f72c1f6-4107-4944-97e9-fbf4443393db",
   "metadata": {},
   "source": [
    "- Drop all rows with missing values for sake of simplicity\n",
    "- Drop rows with nonsensical / possibly false information (see above)\n",
    "- Calculate target column: Delivery time in seconds\n",
    "- Add features: Seasonal, number & proportion of non-busy dashers & interaction with outstanding orders...\n",
    "- Convert datatypes: Categorical vs numeric\n",
    "- Save full data\n",
    "- Drop non-feature columns, save training data"
   ]
  },
  {
   "cell_type": "markdown",
   "id": "18bb82a2-28fb-4c5f-b13e-a3b5b3ea73d4",
   "metadata": {},
   "source": [
    "# Preparation"
   ]
  },
  {
   "cell_type": "markdown",
   "id": "41d33f0e-8c60-4e57-9166-d79938c2f5aa",
   "metadata": {},
   "source": [
    "## Missing / wrong values"
   ]
  },
  {
   "cell_type": "code",
   "execution_count": 8,
   "id": "17ab3df6-17a7-4af2-9515-cad1b0392021",
   "metadata": {},
   "outputs": [],
   "source": [
    "# Drop all rows with missing values\n",
    "df = df.dropna()"
   ]
  },
  {
   "cell_type": "code",
   "execution_count": 9,
   "id": "8634c374-aa4c-4304-b221-d1d0ca26caad",
   "metadata": {},
   "outputs": [
    {
     "name": "stdout",
     "output_type": "stream",
     "text": [
      "175777\n"
     ]
    }
   ],
   "source": [
    "print(len(df))"
   ]
  },
  {
   "cell_type": "code",
   "execution_count": 10,
   "id": "78f0df15-b537-4628-965f-b0362508ffaa",
   "metadata": {},
   "outputs": [],
   "source": [
    "# Drop rows with zero subtotal\n",
    "df = df[df[\"subtotal\"] > 0]"
   ]
  },
  {
   "cell_type": "code",
   "execution_count": 11,
   "id": "b242d7c2-3ae8-49a4-be8a-36e77cf753f3",
   "metadata": {},
   "outputs": [],
   "source": [
    "# Drop rows without positive min-max price\n",
    "df = df.loc[(df[\"min_item_price\"] > 0) & (df[\"max_item_price\"] > 0)]"
   ]
  },
  {
   "cell_type": "code",
   "execution_count": 12,
   "id": "270eebec-9384-42c1-a550-0eab8df5008c",
   "metadata": {},
   "outputs": [],
   "source": [
    "# Drop rows with negative onshift-busy dashers, outstanding orders\n",
    "df = df.loc[(df[\"total_onshift_dashers\"] >= 0) & (df[\"total_busy_dashers\"] >= 0) & (df[\"total_outstanding_orders\"] >= 0)]"
   ]
  },
  {
   "cell_type": "code",
   "execution_count": 13,
   "id": "336e4471-3585-4a34-99e2-367cd8481113",
   "metadata": {},
   "outputs": [],
   "source": [
    "# Drop rows with very small estimated driving duration\n",
    "df = df[df[\"estimated_store_to_consumer_driving_duration\"] >= thresh_driving]"
   ]
  },
  {
   "cell_type": "code",
   "execution_count": 14,
   "id": "aa892b20-072d-4b2d-b767-6a16b8358253",
   "metadata": {},
   "outputs": [
    {
     "name": "stdout",
     "output_type": "stream",
     "text": [
      "173316\n"
     ]
    }
   ],
   "source": [
    "print(len(df))"
   ]
  },
  {
   "cell_type": "markdown",
   "id": "ee7d615a-ff1f-4691-b8aa-d72f42bbb782",
   "metadata": {},
   "source": [
    "## Sanity checks"
   ]
  },
  {
   "cell_type": "code",
   "execution_count": 15,
   "id": "b9dda8d3-1fd2-4078-ba4c-1c970fa1d731",
   "metadata": {},
   "outputs": [],
   "source": [
    "# subtotal >= max_item_price\n",
    "df = df.loc[df[\"subtotal\"] >= df[\"max_item_price\"]]"
   ]
  },
  {
   "cell_type": "code",
   "execution_count": 16,
   "id": "8b0323f3-6894-4ecf-b4ed-7a1c83146560",
   "metadata": {},
   "outputs": [],
   "source": [
    "# total_items >= num_distinct_items\n",
    "df = df.loc[df[\"total_items\"] >= df[\"num_distinct_items\"]]"
   ]
  },
  {
   "cell_type": "code",
   "execution_count": 17,
   "id": "9a0b785f-10de-4423-bd8e-89da0407e84f",
   "metadata": {},
   "outputs": [],
   "source": [
    "# if num_distinct_items == 1, then min_item_price == max_item_price\n",
    "mask = df[\"num_distinct_items\"] == 1 & (df[\"min_item_price\"] != df[\"max_item_price\"])\n",
    "df = df[[not row for row in mask]]"
   ]
  },
  {
   "cell_type": "code",
   "execution_count": 18,
   "id": "ec4bfc8b-6d9a-402e-9b1b-def49e867465",
   "metadata": {},
   "outputs": [
    {
     "name": "stdout",
     "output_type": "stream",
     "text": [
      "171102\n"
     ]
    }
   ],
   "source": [
    "print(len(df))"
   ]
  },
  {
   "cell_type": "code",
   "execution_count": 19,
   "id": "b188f774-4f84-41fe-a9d1-a2e875bf33e2",
   "metadata": {},
   "outputs": [],
   "source": [
    "# total_items * max_item_price >= subtotal >= total_items * min_item_price\n",
    "df = df.loc[\n",
    "    ((df[\"max_item_price\"] * df[\"total_items\"]) >= df[\"subtotal\"]) & \n",
    "    (df[\"subtotal\"] >= (df[\"min_item_price\"] * df[\"total_items\"]))\n",
    "]"
   ]
  },
  {
   "cell_type": "code",
   "execution_count": 20,
   "id": "4a5e5ef5-f750-4ea3-8021-af823d2d6872",
   "metadata": {},
   "outputs": [
    {
     "name": "stdout",
     "output_type": "stream",
     "text": [
      "141871\n"
     ]
    }
   ],
   "source": [
    "print(len(df))"
   ]
  },
  {
   "cell_type": "code",
   "execution_count": 21,
   "id": "528e1c74-4e3e-4d9e-8694-0b1005c7da57",
   "metadata": {},
   "outputs": [],
   "source": [
    "# total_busy_dashers <= total_onshift_dashers\n",
    "df = df.loc[df[\"total_busy_dashers\"] <= df[\"total_onshift_dashers\"]]"
   ]
  },
  {
   "cell_type": "code",
   "execution_count": 22,
   "id": "0e8bba00-a52f-404d-bc96-37f1b9cad559",
   "metadata": {},
   "outputs": [
    {
     "name": "stdout",
     "output_type": "stream",
     "text": [
      "110516\n"
     ]
    }
   ],
   "source": [
    "print(len(df))"
   ]
  },
  {
   "cell_type": "code",
   "execution_count": 23,
   "id": "d2eb829a-3cca-47d7-8b23-258a4baf498f",
   "metadata": {},
   "outputs": [],
   "source": [
    "# created_at < actual_delivery_time\n",
    "df = df.loc[df[\"created_at\"] < df[\"actual_delivery_time\"]]"
   ]
  },
  {
   "cell_type": "code",
   "execution_count": 24,
   "id": "190f5723-1d68-40f0-9afa-32824a53ea23",
   "metadata": {},
   "outputs": [
    {
     "name": "stdout",
     "output_type": "stream",
     "text": [
      "110516\n"
     ]
    }
   ],
   "source": [
    "print(len(df))"
   ]
  },
  {
   "cell_type": "markdown",
   "id": "b20328ce-5545-4914-aa06-3b89bb5d8bb8",
   "metadata": {},
   "source": [
    "## Feature engineering"
   ]
  },
  {
   "cell_type": "code",
   "execution_count": 25,
   "id": "23f63f66-52c4-4ec0-8ae8-ffea073aa45b",
   "metadata": {},
   "outputs": [],
   "source": [
    "# Enforce variable types\n",
    "df[\"market_id\"] = df[\"market_id\"].astype(str)\n",
    "df[\"store_id\"] = df[\"store_id\"].astype(str)\n",
    "df[\"order_protocol\"] = df[\"order_protocol\"].astype(str)\n",
    "\n",
    "df[\"created_at\"] = pd.to_datetime(df[\"created_at\"])\n",
    "df[\"actual_delivery_time\"] = pd.to_datetime(df[\"actual_delivery_time\"])"
   ]
  },
  {
   "cell_type": "code",
   "execution_count": 26,
   "id": "b5eced4f-5083-47ca-8693-a0c4e277c09c",
   "metadata": {},
   "outputs": [
    {
     "data": {
      "text/plain": [
       "market_id                                               object\n",
       "created_at                                      datetime64[ns]\n",
       "actual_delivery_time                            datetime64[ns]\n",
       "store_id                                                object\n",
       "store_primary_category                                  object\n",
       "order_protocol                                          object\n",
       "total_items                                              int64\n",
       "subtotal                                                 int64\n",
       "num_distinct_items                                       int64\n",
       "min_item_price                                           int64\n",
       "max_item_price                                           int64\n",
       "total_onshift_dashers                                  float64\n",
       "total_busy_dashers                                     float64\n",
       "total_outstanding_orders                               float64\n",
       "estimated_order_place_duration                           int64\n",
       "estimated_store_to_consumer_driving_duration           float64\n",
       "dtype: object"
      ]
     },
     "execution_count": 26,
     "metadata": {},
     "output_type": "execute_result"
    }
   ],
   "source": [
    "df.dtypes"
   ]
  },
  {
   "cell_type": "code",
   "execution_count": 27,
   "id": "1b684a71-1179-4ea4-a319-c84afc0db718",
   "metadata": {},
   "outputs": [],
   "source": [
    "# Order by creation date\n",
    "df = df.sort_values(\"created_at\")"
   ]
  },
  {
   "cell_type": "code",
   "execution_count": 28,
   "id": "ff9514c2-74c9-4e9d-8a91-eebb2dbc8905",
   "metadata": {},
   "outputs": [
    {
     "data": {
      "text/plain": [
       "43519    2015-01-21 15:22:03\n",
       "10265    2015-01-21 15:40:42\n",
       "155462   2015-01-21 15:46:41\n",
       "176488   2015-01-21 15:52:32\n",
       "9521     2015-01-21 16:00:44\n",
       "                 ...        \n",
       "197232   2015-02-18 05:54:18\n",
       "22282    2015-02-18 05:54:41\n",
       "164423   2015-02-18 05:55:00\n",
       "19372    2015-02-18 05:55:10\n",
       "20772    2015-02-18 05:56:42\n",
       "Name: created_at, Length: 110516, dtype: datetime64[ns]"
      ]
     },
     "execution_count": 28,
     "metadata": {},
     "output_type": "execute_result"
    }
   ],
   "source": [
    "df[\"created_at\"]"
   ]
  },
  {
   "cell_type": "markdown",
   "id": "0b4ab475-0899-4ce6-a535-9718666f4eda",
   "metadata": {},
   "source": [
    "Time period\n",
    "- One year\n",
    "- January 21 15:00 to February 18 05:56\n",
    "\n",
    "Time features\n",
    "- Day of week, dummy\n",
    "- Hour of day, cyclical\n",
    "- Minute of day, cyclical\n",
    "- Feb 01 Superbowl, binary\n",
    "- Feb 14 Valentine's, binary\n"
   ]
  },
  {
   "cell_type": "code",
   "execution_count": 29,
   "id": "b1690f80-186e-4976-b569-d821e3004148",
   "metadata": {},
   "outputs": [],
   "source": [
    "# Add time features\n",
    "\n",
    "# Day of week\n",
    "dayofweek = pd.get_dummies(df.created_at.dt.weekday, prefix = \"weekday\").astype(int)\n",
    "df = pd.concat([df, dayofweek], axis = 1)\n",
    "\n",
    "# Hour of day\n",
    "hourofday = df.created_at.dt.hour\n",
    "df[\"hour_sin\"] = np.sin(2 * np.pi * hourofday / 24)\n",
    "df[\"hour_cos\"] = np.cos(2 * np.pi * hourofday / 24)\n",
    "\n",
    "# Minute of day\n",
    "minofday = df.created_at.dt.hour * 60 + df.created_at.dt.minute\n",
    "df[\"minute_sin\"] = np.sin(2 * np.pi * minofday / 1440)\n",
    "df[\"minute_cos\"] = np.cos(2 * np.pi * minofday / 1440)\n",
    "\n",
    "# Superbowl\n",
    "df[\"superbowl\"] = ((df.created_at.dt.month == 2) & (df.created_at.dt.day == 1)).astype(int)\n",
    "\n",
    "# Valentines Day\n",
    "df[\"valentines\"] = ((df.created_at.dt.month == 2) & (df.created_at.dt.day == 14)).astype(int)"
   ]
  },
  {
   "cell_type": "code",
   "execution_count": 30,
   "id": "42d2f5a0-5eeb-46e3-99ba-176ad6f3b2f2",
   "metadata": {},
   "outputs": [
    {
     "data": {
      "image/png": "[encoded data removed]",
      "text/plain": [
       "<Figure size 640x480 with 1 Axes>"
      ]
     },
     "metadata": {},
     "output_type": "display_data"
    }
   ],
   "source": [
    "_ = plt.scatter(df[\"hour_sin\"], df[\"hour_cos\"])"
   ]
  },
  {
   "cell_type": "code",
   "execution_count": 31,
   "id": "efdba298-1792-438c-a901-da0d26362fdd",
   "metadata": {},
   "outputs": [
    {
     "data": {
      "image/png": "[encoded data removed]",
      "text/plain": [
       "<Figure size 640x480 with 1 Axes>"
      ]
     },
     "metadata": {},
     "output_type": "display_data"
    }
   ],
   "source": [
    "_ = plt.scatter(df[\"minute_sin\"], df[\"minute_cos\"])"
   ]
  },
  {
   "cell_type": "code",
   "execution_count": 32,
   "id": "2ea9b330-192d-400d-bb38-3756fb0cdc03",
   "metadata": {},
   "outputs": [
    {
     "data": {
      "text/plain": [
       "19"
      ]
     },
     "execution_count": 32,
     "metadata": {},
     "output_type": "execute_result"
    }
   ],
   "source": [
    "hourofday.nunique()"
   ]
  },
  {
   "cell_type": "code",
   "execution_count": 33,
   "id": "9c98a75a-aac2-46b1-b95c-0bdbb7561265",
   "metadata": {},
   "outputs": [
    {
     "data": {
      "text/plain": [
       "982"
      ]
     },
     "execution_count": 33,
     "metadata": {},
     "output_type": "execute_result"
    }
   ],
   "source": [
    "minofday.nunique()"
   ]
  },
  {
   "cell_type": "code",
   "execution_count": 34,
   "id": "ae82abad-23c2-4940-9777-ffa088e6c6b2",
   "metadata": {},
   "outputs": [],
   "source": [
    "# Add interaction features\n",
    "\n",
    "# Number of available dashers\n",
    "df[\"total_available_dashers\"] = df[\"total_onshift_dashers\"] - df[\"total_busy_dashers\"]\n",
    "\n",
    "# Proportion of busy dashers\n",
    "df[\"ratio_busy_dashers\"] = (df[\"total_busy_dashers\"] + 1) / (df[\"total_onshift_dashers\"] + 1)\n",
    "\n",
    "# \"Business score\"\n",
    "df[\"busy_score\"] = df[\"ratio_busy_dashers\"] * df[\"total_outstanding_orders\"]"
   ]
  },
  {
   "cell_type": "markdown",
   "id": "17a81b4d-70e7-4e2e-a1c9-8ee464353cfb",
   "metadata": {},
   "source": [
    "# Export prepared data"
   ]
  },
  {
   "cell_type": "code",
   "execution_count": 35,
   "id": "0489fa95-a65d-4417-801a-83c0f29da85a",
   "metadata": {},
   "outputs": [],
   "source": [
    "# Add target column: Delivery duration in seconds\n",
    "df[\"duration\"] = (df.actual_delivery_time - df.created_at).dt.seconds"
   ]
  },
  {
   "cell_type": "code",
   "execution_count": 36,
   "id": "fe99f2f9-5d85-4899-ab3f-7eacdf3126b3",
   "metadata": {},
   "outputs": [],
   "source": [
    "# Save full data\n",
    "df.to_csv(\"./InputData/full_data.csv\", index = False)"
   ]
  }
 ],
 "metadata": {
  "kernelspec": {
   "display_name": "Python 3 (ipykernel)",
   "language": "python",
   "name": "python3"
  },
  "language_info": {
   "codemirror_mode": {
    "name": "ipython",
    "version": 3
   },
   "file_extension": ".py",
   "mimetype": "text/x-python",
   "name": "python",
   "nbconvert_exporter": "python",
   "pygments_lexer": "ipython3",
   "version": "3.10.8"
  }
 },
 "nbformat": 4,
 "nbformat_minor": 5
}
