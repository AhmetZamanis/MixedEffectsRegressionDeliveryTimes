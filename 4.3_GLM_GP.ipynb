{
 "cells": [
  {
   "cell_type": "code",
   "execution_count": 1,
   "id": "cbc33597-a506-4de3-8f4c-5547bd6d44ae",
   "metadata": {},
   "outputs": [
    {
     "name": "stderr",
     "output_type": "stream",
     "text": [
      "IProgress not found. Please update jupyter and ipywidgets. See https://ipywidgets.readthedocs.io/en/stable/user_install.html\n"
     ]
    }
   ],
   "source": [
    "import pandas as pd\n",
    "import numpy as np\n",
    "import matplotlib.pyplot as plt\n",
    "import seaborn as sns\n",
    "import shap\n",
    "import optuna\n",
    "\n",
    "from category_encoders.target_encoder import TargetEncoder\n",
    "from sklearn.pipeline import Pipeline\n",
    "from sklearn.metrics import mean_squared_error, mean_absolute_percentage_error\n",
    "import gpboost as gpb"
   ]
  },
  {
   "cell_type": "code",
   "execution_count": 2,
   "id": "82f77199-a3e0-47c3-a12a-043c5231fd93",
   "metadata": {},
   "outputs": [],
   "source": [
    "# Set print options\n",
    "np.set_printoptions(suppress=True, precision=4, edgeitems = 7)\n",
    "pd.options.display.float_format = '{:.4f}'.format\n",
    "pd.set_option('display.max_columns', None)"
   ]
  },
  {
   "cell_type": "markdown",
   "id": "c95e9fad-1be1-4116-b487-1567e7279536",
   "metadata": {},
   "source": [
    "# Preprocessing"
   ]
  },
  {
   "cell_type": "code",
   "execution_count": 3,
   "id": "a23c8862-6788-4f6b-8a36-ed4bde4a5a91",
   "metadata": {},
   "outputs": [],
   "source": [
    "random_state = 1923"
   ]
  },
  {
   "cell_type": "code",
   "execution_count": 4,
   "id": "a5900f5f-0604-43c5-b163-d4f364cc27f2",
   "metadata": {},
   "outputs": [],
   "source": [
    "# Read data\n",
    "df = pd.read_csv(\"./InputData/full_data.csv\")"
   ]
  },
  {
   "cell_type": "code",
   "execution_count": 5,
   "id": "8ef8a2f9-6571-4ddc-a328-f2de62cb616b",
   "metadata": {},
   "outputs": [],
   "source": [
    "# Reindex data from 0:N\n",
    "df = df.reset_index(drop = True)"
   ]
  },
  {
   "cell_type": "code",
   "execution_count": 6,
   "id": "3c46f396-0e6b-4172-b2f7-9655b828d9f5",
   "metadata": {},
   "outputs": [],
   "source": [
    "# Drop rows with too high duration\n",
    "high_end = 10800 # 3 hours\n",
    "df = df[df[\"duration\"] <= high_end]"
   ]
  },
  {
   "cell_type": "code",
   "execution_count": 7,
   "id": "c745c4ae-c89b-4dfc-b513-01e398f62f75",
   "metadata": {},
   "outputs": [],
   "source": [
    "df[\"intercept\"] = 1"
   ]
  },
  {
   "cell_type": "code",
   "execution_count": 8,
   "id": "bc0906e1-6a9d-48e2-9d62-673c32c868c9",
   "metadata": {},
   "outputs": [],
   "source": [
    "# Split features & target, drop non-feature columns\n",
    "X = df.drop([\"created_at\", \"actual_delivery_time\", \"duration\"], axis = 1)\n",
    "y = df.duration"
   ]
  },
  {
   "cell_type": "code",
   "execution_count": 9,
   "id": "93ab1251-e3f6-441a-ae92-8a5aef3aebb7",
   "metadata": {},
   "outputs": [],
   "source": [
    "# Split features, GP variables\n",
    "GP = X[[\"hour_sin\", \"hour_cos\", \"minute_sin\", \"minute_cos\"]]\n",
    "X = X.drop([\"hour_sin\", \"hour_cos\", \"minute_sin\", \"minute_cos\"], axis = 1)"
   ]
  },
  {
   "cell_type": "code",
   "execution_count": 10,
   "id": "53d09f8e-2271-49f4-89a7-c3f28f9d1bfc",
   "metadata": {},
   "outputs": [],
   "source": [
    "train_end = int(len(df) * 0.6)"
   ]
  },
  {
   "cell_type": "code",
   "execution_count": 11,
   "id": "871f4a04-b237-4cf2-92e0-eb65950b63a4",
   "metadata": {},
   "outputs": [],
   "source": [
    "val_end = train_end + int(len(df) * 0.2)"
   ]
  },
  {
   "cell_type": "code",
   "execution_count": 12,
   "id": "1dfc931e-f94a-4d97-a894-bb23216c3f41",
   "metadata": {},
   "outputs": [],
   "source": [
    "# Create target encoders\n",
    "\n",
    "# store_id encoder with hierarchy, top level market_id\n",
    "hierarchy = pd.DataFrame(X[\"market_id\"]).rename({\"market_id\": \"HIER_store_id_1\"}, axis = 1)\n",
    "encoder_storeid = TargetEncoder(cols = [\"store_id\"], hierarchy = hierarchy)\n",
    "\n",
    "# Encoder for remaining categoricals, without hierarchy\n",
    "encoder = TargetEncoder(cols = [\"market_id\", \"store_primary_category\", \"order_protocol\"])\n",
    "\n",
    "pipeline = Pipeline([\n",
    "    (\"encoder_storeid\", encoder_storeid),\n",
    "    (\"encoder\", encoder)\n",
    "])"
   ]
  },
  {
   "cell_type": "markdown",
   "id": "e754ada9-1f3e-4112-8996-b4782c3e117e",
   "metadata": {},
   "source": [
    "# Testing & diagnostics"
   ]
  },
  {
   "cell_type": "code",
   "execution_count": 13,
   "id": "2bd071aa-2cee-4e4d-83b4-62d44309fb37",
   "metadata": {},
   "outputs": [],
   "source": [
    "# Combine train & validation data\n",
    "X_train, X_test = X[:val_end], X[val_end:]\n",
    "GP_train, GP_test = GP[:val_end], GP[val_end:]\n",
    "y_train, y_test = y[:val_end], y[val_end:]"
   ]
  },
  {
   "cell_type": "code",
   "execution_count": 14,
   "id": "dee21f03-ede1-49dc-bd33-1f789b0dadb5",
   "metadata": {},
   "outputs": [],
   "source": [
    "# Preprocess data\n",
    "X_train = pipeline.fit_transform(X_train, y_train)\n",
    "X_test = pipeline.transform(X_test)"
   ]
  },
  {
   "cell_type": "code",
   "execution_count": 15,
   "id": "28c7d0d3-408d-4796-8de8-f9d9d1aac85d",
   "metadata": {},
   "outputs": [],
   "source": [
    "# Create gpb data\n",
    "train = gpb.Dataset(X_train, y_train)\n",
    "test = gpb.Dataset(X_test, y_test)"
   ]
  },
  {
   "cell_type": "code",
   "execution_count": 16,
   "id": "373391c1-dfee-4268-a9a5-e2fba68f6726",
   "metadata": {},
   "outputs": [
    {
     "name": "stdout",
     "output_type": "stream",
     "text": [
      "[GPBoost] [Info] Starting nearest neighbor search for Vecchia approximation\n",
      "[GPBoost] [Info] Nearest neighbors for Vecchia approximation found\n"
     ]
    }
   ],
   "source": [
    "# Create random effects model\n",
    "model = gpb.GPModel(\n",
    "        gp_coords = GP_train,\n",
    "        likelihood = \"gaussian\",\n",
    "        gp_approx = \"vecchia\",\n",
    "        seed = random_state\n",
    "    )"
   ]
  },
  {
   "cell_type": "markdown",
   "id": "044b2450-ce3d-4c98-9133-21aaeb5ca797",
   "metadata": {},
   "source": [
    "Other settings not feasible due to memory limitations."
   ]
  },
  {
   "cell_type": "code",
   "execution_count": 17,
   "id": "3023ffc4-b024-4953-8cb5-efbc30407da5",
   "metadata": {},
   "outputs": [
    {
     "name": "stdout",
     "output_type": "stream",
     "text": [
      "[GPBoost] [Warning] The linear regression covariate data matrix (fixed effect) is rank deficient. This is not necessarily a problem when using gradient descent. If this is not desired, consider dropping some columns / covariates.\n"
     ]
    },
    {
     "data": {
      "text/plain": [
       "<gpboost.basic.GPModel at 0x1e069acd120>"
      ]
     },
     "execution_count": 17,
     "metadata": {},
     "output_type": "execute_result"
    }
   ],
   "source": [
    "# Train mixed effects model\n",
    "model.fit(X = X_train, y = y_train, params = {\"std_dev\": True})"
   ]
  },
  {
   "cell_type": "code",
   "execution_count": 18,
   "id": "4d4f7ca8-4535-4832-9b49-6a406d0f758a",
   "metadata": {},
   "outputs": [
    {
     "name": "stdout",
     "output_type": "stream",
     "text": [
      "[GPBoost] [Warning] Calculation of (only) predictive variances is currently not optimized for the Vecchia approximation, and this might takes a lot of time and/or memory.\n"
     ]
    }
   ],
   "source": [
    "# Make predictions on test data\n",
    "preds = model.predict(X_pred = X_test, gp_coords_pred = GP_test, predict_var = True)"
   ]
  },
  {
   "cell_type": "code",
   "execution_count": 19,
   "id": "76f1ca70-a660-4871-a909-c329d385c35c",
   "metadata": {},
   "outputs": [
    {
     "data": {
      "text/plain": [
       "{'mu': array([4045.7852, 3149.3443, 3649.0516, 3305.4131, 4271.8259, 3017.0714,\n",
       "        2496.7268, ..., 2105.3566, 2541.3949, 1256.3793, 1971.4291,\n",
       "        2524.7183, 3030.9183, 2421.746 ]),\n",
       " 'cov': None,\n",
       " 'var': array([705362.6215, 705362.6215, 705362.6215, 705362.6215, 705362.6215,\n",
       "        705362.6215, 705362.6215, ..., 705394.8914, 705394.8914,\n",
       "        705477.5742, 705477.5742, 705430.8415, 705430.8415, 705457.5827])}"
      ]
     },
     "execution_count": 19,
     "metadata": {},
     "output_type": "execute_result"
    }
   ],
   "source": [
    "preds"
   ]
  },
  {
   "cell_type": "code",
   "execution_count": 20,
   "id": "ae610f12-d4f3-4277-ae65-0ba2f6502cab",
   "metadata": {},
   "outputs": [],
   "source": [
    "# Combine back with test data\n",
    "df_pred = X_test.copy()\n",
    "df_pred[\"preds\"] = preds[\"mu\"]\n",
    "df_pred[\"sd\"] = np.sqrt(preds[\"var\"])\n",
    "df_pred[\"actual\"] = y_test\n",
    "df_pred[\"residual\"] = y_test - df_pred[\"preds\"]"
   ]
  },
  {
   "cell_type": "code",
   "execution_count": 21,
   "id": "a8d9cfff-aaaf-43e3-8f36-ddac0f424b45",
   "metadata": {},
   "outputs": [
    {
     "name": "stdout",
     "output_type": "stream",
     "text": [
      "RMSE:\n",
      "953.1900609293465\n",
      "MAPE:\n",
      "0.24009301718558587\n"
     ]
    }
   ],
   "source": [
    "# Calculate RMSE, MAPE\n",
    "print(\"RMSE:\")\n",
    "print(mean_squared_error(df_pred[\"actual\"], df_pred[\"preds\"], squared = False))\n",
    "\n",
    "print(\"MAPE:\")\n",
    "print(mean_absolute_percentage_error(df_pred[\"actual\"], df_pred[\"preds\"]))"
   ]
  },
  {
   "cell_type": "code",
   "execution_count": 22,
   "id": "013eb645-228d-4a92-8980-fb894fe44cee",
   "metadata": {},
   "outputs": [
    {
     "data": {
      "image/png": "[encoded data removed]",
      "text/plain": [
       "<Figure size 500x500 with 1 Axes>"
      ]
     },
     "metadata": {},
     "output_type": "display_data"
    }
   ],
   "source": [
    "# Plot predicted vs. actual\n",
    "_ = sns.displot(x = df_pred[\"actual\"],  y = df_pred[\"preds\"])\n",
    "_ = plt.plot([0, high_end], [0, high_end], c = \"red\")\n",
    "_ = plt.xlim(0, high_end + 500)\n",
    "_ = plt.ylim(0, high_end + 500)\n",
    "_ = plt.xlabel(\"actual\")\n",
    "_ = plt.ylabel(\"predicted\")"
   ]
  },
  {
   "cell_type": "code",
   "execution_count": 23,
   "id": "c8c76ba0-6f9c-4fb5-9854-b9ef341752ce",
   "metadata": {},
   "outputs": [
    {
     "data": {
      "image/png": "[encoded data removed]",
      "text/plain": [
       "<Figure size 500x500 with 1 Axes>"
      ]
     },
     "metadata": {},
     "output_type": "display_data"
    }
   ],
   "source": [
    "# Residual distribution\n",
    "_ = sns.displot(df_pred[\"residual\"])\n",
    "_ = plt.title(\"residual distribution\")"
   ]
  },
  {
   "cell_type": "code",
   "execution_count": 24,
   "id": "018c980a-87b0-4247-9c7f-24f295abc450",
   "metadata": {},
   "outputs": [
    {
     "data": {
      "image/png": "[encoded data removed]",
      "text/plain": [
       "<Figure size 500x500 with 1 Axes>"
      ]
     },
     "metadata": {},
     "output_type": "display_data"
    }
   ],
   "source": [
    "# Predicted vs residual\n",
    "low_end = min(df_pred.residual)\n",
    "max_resids = max(df_pred.residual)\n",
    "_ = sns.displot(data = df_pred, x = \"preds\", y= \"residual\")\n",
    "_ = plt.plot([0, max_resids], [0, 0], c = \"red\")\n",
    "_ = plt.xlim(0, max_resids + 500)\n",
    "_ = plt.ylim(low_end - 500, max_resids + 500)\n",
    "_ = plt.xlabel(\"predicted\")\n",
    "_ = plt.ylabel(\"residual\")"
   ]
  },
  {
   "cell_type": "code",
   "execution_count": 25,
   "id": "ea5dfd3b-a352-4b6c-adcc-e2f249fd9d67",
   "metadata": {},
   "outputs": [
    {
     "name": "stdout",
     "output_type": "stream",
     "text": [
      "=====================================================\n",
      "Model summary:\n",
      "     Log-lik          AIC          BIC\n",
      "-720585.9900 1441229.9700 1441502.2500\n",
      "Nb. observations: 88345\n",
      "-----------------------------------------------------\n",
      "Covariance parameters (random effects):\n",
      "                Param.  Std. dev.\n",
      "Error_term 692593.7865  3314.8887\n",
      "GP_var      48633.9473  2000.5468\n",
      "GP_range        0.6577     0.8383\n",
      "-----------------------------------------------------\n",
      "Linear regression coefficients (fixed effects):\n",
      "                                               Param.    Std. dev.  z value  \\\n",
      "market_id                                      0.1278       0.0432   2.9579   \n",
      "store_id                                       0.9754       0.0097 100.7940   \n",
      "store_primary_category                        -0.2304       0.0211 -10.9048   \n",
      "order_protocol                                -0.1695       0.0512  -3.3120   \n",
      "total_items                                   11.4370       2.6836   4.2618   \n",
      "subtotal                                       0.0661       0.0033  20.1222   \n",
      "num_distinct_items                            11.4903       3.7406   3.0718   \n",
      "min_item_price                                -0.0103       0.0078  -1.3182   \n",
      "max_item_price                                -0.0198       0.0080  -2.4692   \n",
      "total_onshift_dashers                        -15.2698 3063086.5518  -0.0000   \n",
      "total_busy_dashers                            -8.5632 3063086.5518  -0.0000   \n",
      "total_outstanding_orders                      15.7471       1.0580  14.8845   \n",
      "estimated_order_place_duration                 0.4489       0.0519   8.6460   \n",
      "estimated_store_to_consumer_driving_duration   1.0584       0.0129  81.7659   \n",
      "weekday_0                                    212.5420      13.8864  15.3058   \n",
      "weekday_1                                    -32.0375      13.9347  -2.2991   \n",
      "weekday_2                                    -93.7780      12.9390  -7.2477   \n",
      "weekday_3                                     -7.9830      12.5234  -0.6375   \n",
      "weekday_4                                     -5.7885      12.1376  -0.4769   \n",
      "weekday_5                                    117.8492      12.7090   9.2729   \n",
      "superbowl                                     85.6186      16.5398   5.1765   \n",
      "valentines                                   150.8467      16.3877   9.2049   \n",
      "total_available_dashers                        0.0000 3063086.5518   0.0000   \n",
      "ratio_busy_dashers                             0.0064      27.8353   0.0002   \n",
      "busy_score                                     0.0000       1.1611   0.0000   \n",
      "intercept                                     -0.0025     189.7764  -0.0000   \n",
      "\n",
      "                                              P(>|z|)  \n",
      "market_id                                      0.0031  \n",
      "store_id                                       0.0000  \n",
      "store_primary_category                         0.0000  \n",
      "order_protocol                                 0.0009  \n",
      "total_items                                    0.0000  \n",
      "subtotal                                       0.0000  \n",
      "num_distinct_items                             0.0021  \n",
      "min_item_price                                 0.1874  \n",
      "max_item_price                                 0.0135  \n",
      "total_onshift_dashers                          1.0000  \n",
      "total_busy_dashers                             1.0000  \n",
      "total_outstanding_orders                       0.0000  \n",
      "estimated_order_place_duration                 0.0000  \n",
      "estimated_store_to_consumer_driving_duration   0.0000  \n",
      "weekday_0                                      0.0000  \n",
      "weekday_1                                      0.0215  \n",
      "weekday_2                                      0.0000  \n",
      "weekday_3                                      0.5238  \n",
      "weekday_4                                      0.6334  \n",
      "weekday_5                                      0.0000  \n",
      "superbowl                                      0.0000  \n",
      "valentines                                     0.0000  \n",
      "total_available_dashers                        1.0000  \n",
      "ratio_busy_dashers                             0.9998  \n",
      "busy_score                                     1.0000  \n",
      "intercept                                      1.0000  \n",
      "=====================================================\n"
     ]
    },
    {
     "data": {
      "text/plain": [
       "<gpboost.basic.GPModel at 0x1e069acd120>"
      ]
     },
     "execution_count": 25,
     "metadata": {},
     "output_type": "execute_result"
    }
   ],
   "source": [
    "model.summary()"
   ]
  },
  {
   "cell_type": "markdown",
   "id": "db0a600e-a11f-4146-b51c-32b6b70acb4c",
   "metadata": {},
   "source": [
    "# Inference"
   ]
  },
  {
   "cell_type": "code",
   "execution_count": 36,
   "id": "718da2eb-aae1-4ea2-b7eb-cedbc0206896",
   "metadata": {},
   "outputs": [],
   "source": [
    "coefs = model.get_coef().iloc[:-1, :-1].values.flatten()\n",
    "intercept = model.get_coef().iloc[:-1, -1].values"
   ]
  },
  {
   "cell_type": "code",
   "execution_count": 51,
   "id": "0046e0ef-20f6-485d-ae7c-999dee5c7013",
   "metadata": {},
   "outputs": [],
   "source": [
    "explainer = shap.LinearExplainer((coefs, intercept), X_train.drop(\"intercept\", axis = 1))\n",
    "shap_values = explainer.shap_values(X_train.drop(\"intercept\", axis = 1))"
   ]
  },
  {
   "cell_type": "code",
   "execution_count": 52,
   "id": "c6860ef7-8ed0-4383-9168-93e8a09312ea",
   "metadata": {},
   "outputs": [
    {
     "ename": "TypeError",
     "evalue": "The beeswarm plot requires an `Explanation` object as the `shap_values` argument.",
     "output_type": "error",
     "traceback": [
      "\u001b[1;31m---------------------------------------------------------------------------\u001b[0m",
      "\u001b[1;31mTypeError\u001b[0m                                 Traceback (most recent call last)",
      "Cell \u001b[1;32mIn[52], line 2\u001b[0m\n\u001b[0;32m      1\u001b[0m \u001b[38;5;66;03m# SHAP summary of all features\u001b[39;00m\n\u001b[1;32m----> 2\u001b[0m \u001b[43mshap\u001b[49m\u001b[38;5;241;43m.\u001b[39;49m\u001b[43mplots\u001b[49m\u001b[38;5;241;43m.\u001b[39;49m\u001b[43mbeeswarm\u001b[49m\u001b[43m(\u001b[49m\u001b[43mshap_values\u001b[49m\u001b[43m)\u001b[49m\n",
      "File \u001b[1;32m~\\Documents\\WorkLocal\\DataScience\\GitHub\\MixedEffectsRegressionDeliveryTimes\\venv\\lib\\site-packages\\shap\\plots\\_beeswarm.py:71\u001b[0m, in \u001b[0;36mbeeswarm\u001b[1;34m(shap_values, max_display, order, clustering, cluster_threshold, color, axis_color, alpha, show, log_scale, color_bar, plot_size, color_bar_label)\u001b[0m\n\u001b[0;32m     66\u001b[0m \u001b[38;5;28;01mif\u001b[39;00m \u001b[38;5;129;01mnot\u001b[39;00m \u001b[38;5;28misinstance\u001b[39m(shap_values, Explanation):\n\u001b[0;32m     67\u001b[0m     emsg \u001b[38;5;241m=\u001b[39m (\n\u001b[0;32m     68\u001b[0m         \u001b[38;5;124m\"\u001b[39m\u001b[38;5;124mThe beeswarm plot requires an `Explanation` object as the \u001b[39m\u001b[38;5;124m\"\u001b[39m\n\u001b[0;32m     69\u001b[0m         \u001b[38;5;124m\"\u001b[39m\u001b[38;5;124m`shap_values` argument.\u001b[39m\u001b[38;5;124m\"\u001b[39m\n\u001b[0;32m     70\u001b[0m     )\n\u001b[1;32m---> 71\u001b[0m     \u001b[38;5;28;01mraise\u001b[39;00m \u001b[38;5;167;01mTypeError\u001b[39;00m(emsg)\n\u001b[0;32m     73\u001b[0m sv_shape \u001b[38;5;241m=\u001b[39m shap_values\u001b[38;5;241m.\u001b[39mshape\n\u001b[0;32m     74\u001b[0m \u001b[38;5;28;01mif\u001b[39;00m \u001b[38;5;28mlen\u001b[39m(sv_shape) \u001b[38;5;241m==\u001b[39m \u001b[38;5;241m1\u001b[39m:\n",
      "\u001b[1;31mTypeError\u001b[0m: The beeswarm plot requires an `Explanation` object as the `shap_values` argument."
     ]
    }
   ],
   "source": [
    "# SHAP summary of all features\n",
    "shap.plots.beeswarm(shap_values)"
   ]
  },
  {
   "cell_type": "code",
   "execution_count": 53,
   "id": "6d7284c8-3f32-4fdf-9f7e-0ce54182a42b",
   "metadata": {},
   "outputs": [
    {
     "ename": "TypeError",
     "evalue": "The shap_values argument must be an Explanation object, Cohorts object, or dictionary of Explanation objects!",
     "output_type": "error",
     "traceback": [
      "\u001b[1;31m---------------------------------------------------------------------------\u001b[0m",
      "\u001b[1;31mTypeError\u001b[0m                                 Traceback (most recent call last)",
      "Cell \u001b[1;32mIn[53], line 1\u001b[0m\n\u001b[1;32m----> 1\u001b[0m \u001b[43mshap\u001b[49m\u001b[38;5;241;43m.\u001b[39;49m\u001b[43mplots\u001b[49m\u001b[38;5;241;43m.\u001b[39;49m\u001b[43mbar\u001b[49m\u001b[43m(\u001b[49m\u001b[43mshap_values\u001b[49m\u001b[43m)\u001b[49m\n",
      "File \u001b[1;32m~\\Documents\\WorkLocal\\DataScience\\GitHub\\MixedEffectsRegressionDeliveryTimes\\venv\\lib\\site-packages\\shap\\plots\\_bar.py:65\u001b[0m, in \u001b[0;36mbar\u001b[1;34m(shap_values, max_display, order, clustering, clustering_cutoff, merge_cohorts, show_data, show)\u001b[0m\n\u001b[0;32m     60\u001b[0m \u001b[38;5;28;01melse\u001b[39;00m:\n\u001b[0;32m     61\u001b[0m     emsg \u001b[38;5;241m=\u001b[39m (\n\u001b[0;32m     62\u001b[0m         \u001b[38;5;124m\"\u001b[39m\u001b[38;5;124mThe shap_values argument must be an Explanation object, Cohorts \u001b[39m\u001b[38;5;124m\"\u001b[39m\n\u001b[0;32m     63\u001b[0m         \u001b[38;5;124m\"\u001b[39m\u001b[38;5;124mobject, or dictionary of Explanation objects!\u001b[39m\u001b[38;5;124m\"\u001b[39m\n\u001b[0;32m     64\u001b[0m     )\n\u001b[1;32m---> 65\u001b[0m     \u001b[38;5;28;01mraise\u001b[39;00m \u001b[38;5;167;01mTypeError\u001b[39;00m(emsg)\n\u001b[0;32m     67\u001b[0m \u001b[38;5;66;03m# unpack our list of Explanation objects we need to plot\u001b[39;00m\n\u001b[0;32m     68\u001b[0m cohort_labels \u001b[38;5;241m=\u001b[39m \u001b[38;5;28mlist\u001b[39m(cohorts\u001b[38;5;241m.\u001b[39mkeys())\n",
      "\u001b[1;31mTypeError\u001b[0m: The shap_values argument must be an Explanation object, Cohorts object, or dictionary of Explanation objects!"
     ]
    }
   ],
   "source": [
    "shap.plots.bar(shap_values)"
   ]
  },
  {
   "cell_type": "markdown",
   "id": "4fb46d09-ec1d-48a3-94eb-64d4314ce502",
   "metadata": {},
   "source": [
    "- Bottom right: ~7AM\n",
    "\n",
    "- Top: ~12AM\n",
    "\n",
    "- Bottom left: ~14:30PM"
   ]
  },
  {
   "cell_type": "markdown",
   "id": "a11b3db5-d244-4012-8f5b-eec27eea5be0",
   "metadata": {},
   "source": [
    "# Findings"
   ]
  },
  {
   "cell_type": "markdown",
   "id": "a779779d-59ae-4de0-8c69-2b9f6fb8bf56",
   "metadata": {},
   "source": [
    "- Performance very slightly better than fixed effects GLM, worse than grouped effects GLM.\n",
    "- Issue with getting SHAP values."
   ]
  }
 ],
 "metadata": {
  "kernelspec": {
   "display_name": "Python 3 (ipykernel)",
   "language": "python",
   "name": "python3"
  },
  "language_info": {
   "codemirror_mode": {
    "name": "ipython",
    "version": 3
   },
   "file_extension": ".py",
   "mimetype": "text/x-python",
   "name": "python",
   "nbconvert_exporter": "python",
   "pygments_lexer": "ipython3",
   "version": "3.10.8"
  }
 },
 "nbformat": 4,
 "nbformat_minor": 5
}
