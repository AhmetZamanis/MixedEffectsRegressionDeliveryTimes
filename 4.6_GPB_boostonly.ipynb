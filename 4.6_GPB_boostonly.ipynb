{
 "cells": [
  {
   "cell_type": "code",
   "execution_count": 1,
   "id": "cbc33597-a506-4de3-8f4c-5547bd6d44ae",
   "metadata": {},
   "outputs": [
    {
     "name": "stderr",
     "output_type": "stream",
     "text": [
      "IProgress not found. Please update jupyter and ipywidgets. See https://ipywidgets.readthedocs.io/en/stable/user_install.html\n"
     ]
    }
   ],
   "source": [
    "import pandas as pd\n",
    "import numpy as np\n",
    "import matplotlib.pyplot as plt\n",
    "import seaborn as sns\n",
    "import shap\n",
    "import optuna\n",
    "\n",
    "from category_encoders.target_encoder import TargetEncoder\n",
    "from sklearn.pipeline import Pipeline\n",
    "from sklearn.metrics import mean_squared_error, mean_absolute_percentage_error\n",
    "import gpboost as gpb"
   ]
  },
  {
   "cell_type": "code",
   "execution_count": 2,
   "id": "82f77199-a3e0-47c3-a12a-043c5231fd93",
   "metadata": {},
   "outputs": [],
   "source": [
    "# Set print options\n",
    "np.set_printoptions(suppress=True, precision=6, edgeitems = 7)\n",
    "pd.options.display.float_format = '{:.6f}'.format\n",
    "pd.set_option('display.max_columns', None)"
   ]
  },
  {
   "cell_type": "markdown",
   "id": "bc50aad2-52c8-4cb3-bf65-cb4d0e5a90a7",
   "metadata": {},
   "source": [
    "Notebook objective: Tune & test GPBoost model with LGBM booster only, without store_id, without random effects component, to see if Booster works properly & learns considerably."
   ]
  },
  {
   "cell_type": "markdown",
   "id": "c95e9fad-1be1-4116-b487-1567e7279536",
   "metadata": {},
   "source": [
    "# Preprocessing"
   ]
  },
  {
   "cell_type": "code",
   "execution_count": 3,
   "id": "a23c8862-6788-4f6b-8a36-ed4bde4a5a91",
   "metadata": {},
   "outputs": [],
   "source": [
    "random_state = 1923"
   ]
  },
  {
   "cell_type": "code",
   "execution_count": 4,
   "id": "a5900f5f-0604-43c5-b163-d4f364cc27f2",
   "metadata": {},
   "outputs": [],
   "source": [
    "# Read data\n",
    "df = pd.read_csv(\"./InputData/full_data.csv\")"
   ]
  },
  {
   "cell_type": "code",
   "execution_count": 5,
   "id": "8ef8a2f9-6571-4ddc-a328-f2de62cb616b",
   "metadata": {},
   "outputs": [],
   "source": [
    "# Reindex data from 0:N\n",
    "df = df.reset_index(drop = True)"
   ]
  },
  {
   "cell_type": "code",
   "execution_count": 6,
   "id": "3c46f396-0e6b-4172-b2f7-9655b828d9f5",
   "metadata": {},
   "outputs": [],
   "source": [
    "# Drop rows with too high duration\n",
    "high_end = 10800 # 3 hours\n",
    "df = df[df[\"duration\"] <= high_end]"
   ]
  },
  {
   "cell_type": "code",
   "execution_count": 7,
   "id": "bc0906e1-6a9d-48e2-9d62-673c32c868c9",
   "metadata": {},
   "outputs": [],
   "source": [
    "# Split features & target, drop non-feature columns\n",
    "X = df.drop([\"created_at\", \"actual_delivery_time\", \"duration\"], axis = 1)\n",
    "y = df.duration"
   ]
  },
  {
   "cell_type": "code",
   "execution_count": 8,
   "id": "6b9be45b-2b48-40f6-bdc0-789a8cd94c80",
   "metadata": {},
   "outputs": [],
   "source": [
    "# Split features & group variables\n",
    "#G = X[\"store_id\"]\n",
    "X = X.drop([\"store_id\"], axis = 1)"
   ]
  },
  {
   "cell_type": "raw",
   "id": "0876fafd-91c2-496a-92fa-bddc364b7754",
   "metadata": {},
   "source": [
    "# Enforce dtype of group variables\n",
    "G = G.astype(\"str\") "
   ]
  },
  {
   "cell_type": "code",
   "execution_count": 9,
   "id": "53d09f8e-2271-49f4-89a7-c3f28f9d1bfc",
   "metadata": {},
   "outputs": [],
   "source": [
    "train_end = int(len(df) * 0.6)"
   ]
  },
  {
   "cell_type": "code",
   "execution_count": 10,
   "id": "871f4a04-b237-4cf2-92e0-eb65950b63a4",
   "metadata": {},
   "outputs": [],
   "source": [
    "val_end = train_end + int(len(df) * 0.2)"
   ]
  },
  {
   "cell_type": "code",
   "execution_count": 11,
   "id": "45363f4b-00d7-4d9d-b3e0-87c520404996",
   "metadata": {},
   "outputs": [],
   "source": [
    "# Train - val - test split, 60 - 20 - 20\n",
    "X_train, X_val, X_test = X[:train_end], X[train_end:val_end], X[val_end:]\n",
    "#G_train, G_val, G_test = G[:train_end], G[train_end:val_end], G[val_end:]\n",
    "y_train, y_val, y_test = y[:train_end], y[train_end:val_end], y[val_end:]"
   ]
  },
  {
   "cell_type": "code",
   "execution_count": 12,
   "id": "1dfc931e-f94a-4d97-a894-bb23216c3f41",
   "metadata": {},
   "outputs": [],
   "source": [
    "# Create target encoders\n",
    "\n",
    "# store_id encoder with hierarchy, top level market_id\n",
    "#hierarchy = pd.DataFrame(X[\"market_id\"]).rename({\"market_id\": \"HIER_store_id_1\"}, axis = 1)\n",
    "#encoder_storeid = TargetEncoder(cols = [\"store_id\"], hierarchy = hierarchy)\n",
    "\n",
    "# Encoder for remaining categoricals, without hierarchy\n",
    "encoder = TargetEncoder(cols = [\"market_id\", \"store_primary_category\", \"order_protocol\"])\n",
    "\n",
    "pipeline = Pipeline([\n",
    "    #(\"encoder_storeid\", encoder_storeid),\n",
    "    (\"encoder\", encoder)\n",
    "])"
   ]
  },
  {
   "cell_type": "code",
   "execution_count": 13,
   "id": "b6157e7f-e56c-4b0f-ad8a-ea63dc37712b",
   "metadata": {},
   "outputs": [],
   "source": [
    "# Preprocess data\n",
    "X_train = encoder.fit_transform(X_train, y_train)\n",
    "X_val = encoder.transform(X_val)\n",
    "X_test = encoder.transform(X_test)"
   ]
  },
  {
   "cell_type": "markdown",
   "id": "8e41ccc6-0200-4613-b6b4-607663d2260f",
   "metadata": {},
   "source": [
    "# Hyperparameter tuning"
   ]
  },
  {
   "cell_type": "code",
   "execution_count": 14,
   "id": "be6eb57e-374a-49f6-a5ab-a3d72b64c4cf",
   "metadata": {},
   "outputs": [],
   "source": [
    "# Objective function\n",
    "def objective_gpb(trial):\n",
    "\n",
    "    # Define hyperparameter space\n",
    "    learning_rate = trial.suggest_float(\"learning_rate\", 0.05, 0.5)\n",
    "    num_leaves = trial.suggest_int(\"num_leaves\", 2**2, 2**10)\n",
    "    #max_depth = trial.suggest_int(\"max_depth\", 2, 20) # Max depth of 20 is too restrictive for LightGBM\n",
    "    min_child_samples = trial.suggest_int(\"min_child_samples\", 10, 1000, log = True)\n",
    "    min_child_weight = trial.suggest_float(\"min_child_weight\", 0.001, 20, log = True)\n",
    "    reg_alpha = trial.suggest_float(\"l1_reg\", 0, 1)\n",
    "    reg_lambda = trial.suggest_float(\"l2_reg\", 0, 2)\n",
    "    colsample_bytree = trial.suggest_float(\"colsample_bytree\", 0.25, 1)\n",
    "\n",
    "    # Create model\n",
    "    #callbacks = [gpb.early_stopping(50)]\n",
    "    \n",
    "    model = gpb.GPBoostRegressor(\n",
    "        n_jobs = 10,\n",
    "        #device_type = \"gpu\",\n",
    "        n_estimators = 5000,\n",
    "        num_leaves = num_leaves,\n",
    "        random_state = random_state,\n",
    "        #max_depth = max_depth,\n",
    "        max_depth = -1,\n",
    "        min_child_samples = min_child_samples,\n",
    "        learning_rate = learning_rate,\n",
    "        min_child_weight = min_child_weight,\n",
    "        reg_alpha = reg_alpha,\n",
    "        reg_lambda = reg_lambda,\n",
    "        colsample_bytree = colsample_bytree\n",
    "    )\n",
    "\n",
    "    # Train model with early stopping\n",
    "    model.fit(\n",
    "        X_train, \n",
    "        y_train,\n",
    "        eval_set = [(X_val, y_val)],\n",
    "        early_stopping_rounds = 50,\n",
    "        #callbacks = callbacks,\n",
    "        verbose = False)\n",
    "\n",
    "    # Report best number of rounds\n",
    "    trial.set_user_attr(\"n_rounds\", (model.best_iteration_))\n",
    "    \n",
    "    return model.best_score_['valid_0']['l2']\n"
   ]
  },
  {
   "cell_type": "code",
   "execution_count": 15,
   "id": "f9f1ff10-92a0-4eea-841f-72fc536b2fb3",
   "metadata": {},
   "outputs": [
    {
     "name": "stderr",
     "output_type": "stream",
     "text": [
      "[I 2023-11-30 10:06:26,205] A new study created in memory with name: tune_gpb\n"
     ]
    }
   ],
   "source": [
    "# Create study\n",
    "study_gpb = optuna.create_study(\n",
    "  sampler = optuna.samplers.TPESampler(seed = random_state),\n",
    "  study_name = \"tune_gpb\",\n",
    "  direction = \"minimize\"\n",
    ")"
   ]
  },
  {
   "cell_type": "code",
   "execution_count": 16,
   "id": "c69c93b3-cb11-4a4c-b746-193ee25cbe5b",
   "metadata": {},
   "outputs": [
    {
     "name": "stderr",
     "output_type": "stream",
     "text": [
      "Best trial: 873. Best value: 682757: 100%|█████████████████████████████████████████| 1000/1000 [10:06<00:00,  1.65it/s]\n"
     ]
    }
   ],
   "source": [
    "# Perform study\n",
    "optuna.logging.set_verbosity(optuna.logging.WARNING)\n",
    "study_gpb.optimize(\n",
    "  objective_gpb, \n",
    "  n_trials = 1000,\n",
    "  show_progress_bar = True)"
   ]
  },
  {
   "cell_type": "code",
   "execution_count": 18,
   "id": "3078a593-9600-4db0-9240-0dc258b7d0a6",
   "metadata": {},
   "outputs": [],
   "source": [
    "# Save tuning log\n",
    "trials_gpb = study_gpb.trials_dataframe().sort_values(\"value\", ascending = True)\n",
    "trials_gpb.to_csv(\"./ModifiedData/trials_gpb_boostonly.csv\", index = False)"
   ]
  },
  {
   "cell_type": "markdown",
   "id": "e754ada9-1f3e-4112-8996-b4782c3e117e",
   "metadata": {},
   "source": [
    "# Testing & diagnostics"
   ]
  },
  {
   "cell_type": "code",
   "execution_count": 20,
   "id": "ca1efc65-44a2-4bdf-bb9b-9c389dc385c2",
   "metadata": {},
   "outputs": [],
   "source": [
    "# Load best tune\n",
    "best_tune = pd.read_csv(\"./ModifiedData/trials_gpb_boostonly.csv\").iloc[0]"
   ]
  },
  {
   "cell_type": "code",
   "execution_count": 21,
   "id": "8133bb23-ba38-49ac-aaf8-0dace2ac016d",
   "metadata": {},
   "outputs": [
    {
     "data": {
      "text/plain": [
       "number                                             873\n",
       "value                                    682756.682359\n",
       "datetime_start              2023-11-30 10:14:43.784578\n",
       "datetime_complete           2023-11-30 10:14:44.662729\n",
       "duration                        0 days 00:00:00.878151\n",
       "params_colsample_bytree                       0.326927\n",
       "params_l1_reg                                 0.866363\n",
       "params_l2_reg                                 0.006419\n",
       "params_learning_rate                          0.061448\n",
       "params_min_child_samples                            32\n",
       "params_min_child_weight                       0.484801\n",
       "params_num_leaves                                  141\n",
       "user_attrs_n_rounds                                185\n",
       "state                                         COMPLETE\n",
       "Name: 0, dtype: object"
      ]
     },
     "execution_count": 21,
     "metadata": {},
     "output_type": "execute_result"
    }
   ],
   "source": [
    "best_tune"
   ]
  },
  {
   "cell_type": "code",
   "execution_count": 22,
   "id": "2bd071aa-2cee-4e4d-83b4-62d44309fb37",
   "metadata": {},
   "outputs": [],
   "source": [
    "# Combine train & validation data\n",
    "X_train, X_test = X[:val_end], X[val_end:]\n",
    "#G_train, G_test = G[:val_end], G[val_end:]\n",
    "y_train, y_test = y[:val_end], y[val_end:]"
   ]
  },
  {
   "cell_type": "code",
   "execution_count": 23,
   "id": "dee21f03-ede1-49dc-bd33-1f789b0dadb5",
   "metadata": {},
   "outputs": [],
   "source": [
    "# Preprocess data\n",
    "X_train = encoder.fit_transform(X_train, y_train)\n",
    "X_test = encoder.transform(X_test)"
   ]
  },
  {
   "cell_type": "code",
   "execution_count": 24,
   "id": "28c7d0d3-408d-4796-8de8-f9d9d1aac85d",
   "metadata": {},
   "outputs": [],
   "source": [
    "# Create gpb data\n",
    "train = gpb.Dataset(X_train, y_train)\n",
    "test = gpb.Dataset(X_test, y_test)"
   ]
  },
  {
   "cell_type": "code",
   "execution_count": 25,
   "id": "4f04c7db-a139-440d-84bc-23fe4b04dd24",
   "metadata": {},
   "outputs": [],
   "source": [
    "# Create params dict\n",
    "params = {\n",
    "    \"random_state\": random_state,\n",
    "    \"n_estimators\": int(best_tune[\"user_attrs_n_rounds\"]),\n",
    "    \"num_leaves\": best_tune[\"params_num_leaves\"],\n",
    "    \"min_child_samples\": best_tune[\"params_min_child_samples\"],\n",
    "    \"learning_rate\": best_tune[\"params_learning_rate\"],\n",
    "    \"min_child_weight\": best_tune[\"params_min_child_weight\"],\n",
    "    \"reg_alpha\": best_tune[\"params_l1_reg\"],\n",
    "    \"reg_lambda\": best_tune[\"params_l2_reg\"],\n",
    "    \"colsample_bytree\": best_tune[\"params_colsample_bytree\"]\n",
    "}"
   ]
  },
  {
   "cell_type": "code",
   "execution_count": 26,
   "id": "3023ffc4-b024-4953-8cb5-efbc30407da5",
   "metadata": {},
   "outputs": [
    {
     "name": "stderr",
     "output_type": "stream",
     "text": [
      "Found `n_estimators` in params. Will use it instead of argument\n"
     ]
    },
    {
     "name": "stdout",
     "output_type": "stream",
     "text": [
      "[GPBoost] [Info] Total Bins 2872\n",
      "[GPBoost] [Info] Number of data points in the train set: 88345, number of used features: 28\n",
      "[GPBoost] [Info] Start training from score 2816.359805\n"
     ]
    }
   ],
   "source": [
    "# Train booster\n",
    "model = gpb.train(\n",
    "    params = params,\n",
    "    train_set = train,\n",
    "    #gp_model = gp_model\n",
    ")"
   ]
  },
  {
   "cell_type": "code",
   "execution_count": 27,
   "id": "4d4f7ca8-4535-4832-9b49-6a406d0f758a",
   "metadata": {},
   "outputs": [],
   "source": [
    "# Make predictions on test data\n",
    "preds = model.predict(X_test)"
   ]
  },
  {
   "cell_type": "code",
   "execution_count": 28,
   "id": "76f1ca70-a660-4871-a909-c329d385c35c",
   "metadata": {},
   "outputs": [
    {
     "data": {
      "text/plain": [
       "array([4180.274705, 3504.973232, 3893.982999, 3317.624105, 4041.577925,\n",
       "       3361.262114, 2428.790867, ..., 1865.030631, 2085.736266,\n",
       "       1506.938441, 2057.773275, 2716.021282, 2862.154006, 2531.72598 ])"
      ]
     },
     "execution_count": 28,
     "metadata": {},
     "output_type": "execute_result"
    }
   ],
   "source": [
    "preds"
   ]
  },
  {
   "cell_type": "code",
   "execution_count": 29,
   "id": "ae610f12-d4f3-4277-ae65-0ba2f6502cab",
   "metadata": {},
   "outputs": [],
   "source": [
    "# Combine back with test data\n",
    "df_pred = X_test.copy()\n",
    "df_pred[\"preds\"] = preds\n",
    "df_pred[\"actual\"] = y_test\n",
    "df_pred[\"residual\"] = y_test - preds"
   ]
  },
  {
   "cell_type": "code",
   "execution_count": 30,
   "id": "a8d9cfff-aaaf-43e3-8f36-ddac0f424b45",
   "metadata": {},
   "outputs": [
    {
     "name": "stdout",
     "output_type": "stream",
     "text": [
      "RMSE:\n",
      "922.72800488589\n",
      "MAPE:\n",
      "0.22985026092589383\n"
     ]
    }
   ],
   "source": [
    "# Calculate RMSE, MAPE\n",
    "print(\"RMSE:\")\n",
    "print(mean_squared_error(df_pred[\"actual\"], df_pred[\"preds\"], squared = False))\n",
    "\n",
    "print(\"MAPE:\")\n",
    "print(mean_absolute_percentage_error(df_pred[\"actual\"], df_pred[\"preds\"]))"
   ]
  },
  {
   "cell_type": "markdown",
   "id": "6e998f85-7b95-43bf-bb95-41caae5ccf43",
   "metadata": {},
   "source": [
    "# Findings\n",
    "- Performs very similar to 4.4LGBM.\n",
    "- Booster works & learns as expected, and tunes have a significant impact on model performance.\n",
    "- The issue must come from combining the booster & the random effects component."
   ]
  }
 ],
 "metadata": {
  "kernelspec": {
   "display_name": "Python 3 (ipykernel)",
   "language": "python",
   "name": "python3"
  },
  "language_info": {
   "codemirror_mode": {
    "name": "ipython",
    "version": 3
   },
   "file_extension": ".py",
   "mimetype": "text/x-python",
   "name": "python",
   "nbconvert_exporter": "python",
   "pygments_lexer": "ipython3",
   "version": "3.10.8"
  }
 },
 "nbformat": 4,
 "nbformat_minor": 5
}
