{
 "cells": [
  {
   "cell_type": "code",
   "execution_count": 49,
   "id": "cbc33597-a506-4de3-8f4c-5547bd6d44ae",
   "metadata": {},
   "outputs": [],
   "source": [
    "import pandas as pd\n",
    "import numpy as np\n",
    "import matplotlib.pyplot as plt\n",
    "import seaborn as sns\n",
    "import optuna\n",
    "\n",
    "from category_encoders.target_encoder import TargetEncoder\n",
    "from sklearn.pipeline import Pipeline\n",
    "from sklearn.metrics import mean_squared_error\n",
    "from xgboost import XGBRegressor"
   ]
  },
  {
   "cell_type": "code",
   "execution_count": 2,
   "id": "82f77199-a3e0-47c3-a12a-043c5231fd93",
   "metadata": {},
   "outputs": [],
   "source": [
    "# Set print options\n",
    "np.set_printoptions(suppress=True, precision=4, edgeitems = 7)\n",
    "pd.options.display.float_format = '{:.4f}'.format\n",
    "pd.set_option('display.max_columns', None)"
   ]
  },
  {
   "cell_type": "markdown",
   "id": "c95e9fad-1be1-4116-b487-1567e7279536",
   "metadata": {},
   "source": [
    "# Preprocessing"
   ]
  },
  {
   "cell_type": "code",
   "execution_count": 3,
   "id": "a23c8862-6788-4f6b-8a36-ed4bde4a5a91",
   "metadata": {},
   "outputs": [],
   "source": [
    "random_state = 1923"
   ]
  },
  {
   "cell_type": "code",
   "execution_count": 4,
   "id": "a5900f5f-0604-43c5-b163-d4f364cc27f2",
   "metadata": {},
   "outputs": [],
   "source": [
    "# Read data\n",
    "df = pd.read_csv(\"./InputData/full_data.csv\")"
   ]
  },
  {
   "cell_type": "code",
   "execution_count": 5,
   "id": "8ef8a2f9-6571-4ddc-a328-f2de62cb616b",
   "metadata": {},
   "outputs": [],
   "source": [
    "# Reindex data from 0:N\n",
    "df = df.reset_index(drop = True)"
   ]
  },
  {
   "cell_type": "code",
   "execution_count": 6,
   "id": "bc0906e1-6a9d-48e2-9d62-673c32c868c9",
   "metadata": {},
   "outputs": [],
   "source": [
    "# Split features and target, drop non-feature columns\n",
    "X = df.drop([\"created_at\", \"actual_delivery_time\", \"duration\"], axis = 1)\n",
    "y = df.duration"
   ]
  },
  {
   "cell_type": "code",
   "execution_count": 7,
   "id": "53d09f8e-2271-49f4-89a7-c3f28f9d1bfc",
   "metadata": {},
   "outputs": [],
   "source": [
    "train_end = int(len(df) * 0.6)"
   ]
  },
  {
   "cell_type": "code",
   "execution_count": 8,
   "id": "871f4a04-b237-4cf2-92e0-eb65950b63a4",
   "metadata": {},
   "outputs": [],
   "source": [
    "val_end = train_end + int(len(df) * 0.2)"
   ]
  },
  {
   "cell_type": "code",
   "execution_count": 9,
   "id": "45363f4b-00d7-4d9d-b3e0-87c520404996",
   "metadata": {},
   "outputs": [],
   "source": [
    "# Train - val - test split, 60 - 20 - 20\n",
    "X_train, X_val, X_test = X[:train_end], X[train_end:val_end], X[val_end:]\n",
    "y_train, y_val, y_test = y[:train_end], y[train_end:val_end], y[val_end:]"
   ]
  },
  {
   "cell_type": "code",
   "execution_count": 10,
   "id": "1dfc931e-f94a-4d97-a894-bb23216c3f41",
   "metadata": {},
   "outputs": [],
   "source": [
    "# Create target encoders\n",
    "\n",
    "# store_id encoder with hierarchy, top level market_id\n",
    "hierarchy = pd.DataFrame(X[\"market_id\"]).rename({\"market_id\": \"HIER_store_id_1\"}, axis = 1)\n",
    "encoder_storeid = TargetEncoder(cols = [\"store_id\"], hierarchy = hierarchy)\n",
    "\n",
    "# Encoder for remaining categoricals, without hierarchy\n",
    "encoder = TargetEncoder(cols = [\"market_id\", \"store_primary_category\", \"order_protocol\"])\n",
    "\n",
    "pipeline = Pipeline([\n",
    "    (\"encoder_storeid\", encoder_storeid),\n",
    "    (\"encoder\", encoder)\n",
    "])"
   ]
  },
  {
   "cell_type": "code",
   "execution_count": 11,
   "id": "bf6680b6-e28b-44dd-b513-72d6abe5902c",
   "metadata": {},
   "outputs": [
    {
     "data": {
      "text/html": [
       "<style>#sk-container-id-1 {color: black;}#sk-container-id-1 pre{padding: 0;}#sk-container-id-1 div.sk-toggleable {background-color: white;}#sk-container-id-1 label.sk-toggleable__label {cursor: pointer;display: block;width: 100%;margin-bottom: 0;padding: 0.3em;box-sizing: border-box;text-align: center;}#sk-container-id-1 label.sk-toggleable__label-arrow:before {content: \"▸\";float: left;margin-right: 0.25em;color: #696969;}#sk-container-id-1 label.sk-toggleable__label-arrow:hover:before {color: black;}#sk-container-id-1 div.sk-estimator:hover label.sk-toggleable__label-arrow:before {color: black;}#sk-container-id-1 div.sk-toggleable__content {max-height: 0;max-width: 0;overflow: hidden;text-align: left;background-color: #f0f8ff;}#sk-container-id-1 div.sk-toggleable__content pre {margin: 0.2em;color: black;border-radius: 0.25em;background-color: #f0f8ff;}#sk-container-id-1 input.sk-toggleable__control:checked~div.sk-toggleable__content {max-height: 200px;max-width: 100%;overflow: auto;}#sk-container-id-1 input.sk-toggleable__control:checked~label.sk-toggleable__label-arrow:before {content: \"▾\";}#sk-container-id-1 div.sk-estimator input.sk-toggleable__control:checked~label.sk-toggleable__label {background-color: #d4ebff;}#sk-container-id-1 div.sk-label input.sk-toggleable__control:checked~label.sk-toggleable__label {background-color: #d4ebff;}#sk-container-id-1 input.sk-hidden--visually {border: 0;clip: rect(1px 1px 1px 1px);clip: rect(1px, 1px, 1px, 1px);height: 1px;margin: -1px;overflow: hidden;padding: 0;position: absolute;width: 1px;}#sk-container-id-1 div.sk-estimator {font-family: monospace;background-color: #f0f8ff;border: 1px dotted black;border-radius: 0.25em;box-sizing: border-box;margin-bottom: 0.5em;}#sk-container-id-1 div.sk-estimator:hover {background-color: #d4ebff;}#sk-container-id-1 div.sk-parallel-item::after {content: \"\";width: 100%;border-bottom: 1px solid gray;flex-grow: 1;}#sk-container-id-1 div.sk-label:hover label.sk-toggleable__label {background-color: #d4ebff;}#sk-container-id-1 div.sk-serial::before {content: \"\";position: absolute;border-left: 1px solid gray;box-sizing: border-box;top: 0;bottom: 0;left: 50%;z-index: 0;}#sk-container-id-1 div.sk-serial {display: flex;flex-direction: column;align-items: center;background-color: white;padding-right: 0.2em;padding-left: 0.2em;position: relative;}#sk-container-id-1 div.sk-item {position: relative;z-index: 1;}#sk-container-id-1 div.sk-parallel {display: flex;align-items: stretch;justify-content: center;background-color: white;position: relative;}#sk-container-id-1 div.sk-item::before, #sk-container-id-1 div.sk-parallel-item::before {content: \"\";position: absolute;border-left: 1px solid gray;box-sizing: border-box;top: 0;bottom: 0;left: 50%;z-index: -1;}#sk-container-id-1 div.sk-parallel-item {display: flex;flex-direction: column;z-index: 1;position: relative;background-color: white;}#sk-container-id-1 div.sk-parallel-item:first-child::after {align-self: flex-end;width: 50%;}#sk-container-id-1 div.sk-parallel-item:last-child::after {align-self: flex-start;width: 50%;}#sk-container-id-1 div.sk-parallel-item:only-child::after {width: 0;}#sk-container-id-1 div.sk-dashed-wrapped {border: 1px dashed gray;margin: 0 0.4em 0.5em 0.4em;box-sizing: border-box;padding-bottom: 0.4em;background-color: white;}#sk-container-id-1 div.sk-label label {font-family: monospace;font-weight: bold;display: inline-block;line-height: 1.2em;}#sk-container-id-1 div.sk-label-container {text-align: center;}#sk-container-id-1 div.sk-container {/* jupyter's `normalize.less` sets `[hidden] { display: none; }` but bootstrap.min.css set `[hidden] { display: none !important; }` so we also need the `!important` here to be able to override the default hidden behavior on the sphinx rendered scikit-learn.org. See: https://github.com/scikit-learn/scikit-learn/issues/21755 */display: inline-block !important;position: relative;}#sk-container-id-1 div.sk-text-repr-fallback {display: none;}</style><div id=\"sk-container-id-1\" class=\"sk-top-container\"><div class=\"sk-text-repr-fallback\"><pre>Pipeline(steps=[(&#x27;encoder_storeid&#x27;,\n",
       "                 TargetEncoder(cols=[&#x27;store_id&#x27;],\n",
       "                               hierarchy=        HIER_store_id_1\n",
       "0                     1\n",
       "1                     1\n",
       "2                     1\n",
       "3                     3\n",
       "4                     2\n",
       "...                 ...\n",
       "110511                5\n",
       "110512                4\n",
       "110513                1\n",
       "110514                1\n",
       "110515                2\n",
       "\n",
       "[110516 rows x 1 columns])),\n",
       "                (&#x27;encoder&#x27;,\n",
       "                 TargetEncoder(cols=[&#x27;market_id&#x27;, &#x27;store_primary_category&#x27;,\n",
       "                                     &#x27;order_protocol&#x27;]))])</pre><b>In a Jupyter environment, please rerun this cell to show the HTML representation or trust the notebook. <br />On GitHub, the HTML representation is unable to render, please try loading this page with nbviewer.org.</b></div><div class=\"sk-container\" hidden><div class=\"sk-item sk-dashed-wrapped\"><div class=\"sk-label-container\"><div class=\"sk-label sk-toggleable\"><input class=\"sk-toggleable__control sk-hidden--visually\" id=\"sk-estimator-id-1\" type=\"checkbox\" ><label for=\"sk-estimator-id-1\" class=\"sk-toggleable__label sk-toggleable__label-arrow\">Pipeline</label><div class=\"sk-toggleable__content\"><pre>Pipeline(steps=[(&#x27;encoder_storeid&#x27;,\n",
       "                 TargetEncoder(cols=[&#x27;store_id&#x27;],\n",
       "                               hierarchy=        HIER_store_id_1\n",
       "0                     1\n",
       "1                     1\n",
       "2                     1\n",
       "3                     3\n",
       "4                     2\n",
       "...                 ...\n",
       "110511                5\n",
       "110512                4\n",
       "110513                1\n",
       "110514                1\n",
       "110515                2\n",
       "\n",
       "[110516 rows x 1 columns])),\n",
       "                (&#x27;encoder&#x27;,\n",
       "                 TargetEncoder(cols=[&#x27;market_id&#x27;, &#x27;store_primary_category&#x27;,\n",
       "                                     &#x27;order_protocol&#x27;]))])</pre></div></div></div><div class=\"sk-serial\"><div class=\"sk-item\"><div class=\"sk-estimator sk-toggleable\"><input class=\"sk-toggleable__control sk-hidden--visually\" id=\"sk-estimator-id-2\" type=\"checkbox\" ><label for=\"sk-estimator-id-2\" class=\"sk-toggleable__label sk-toggleable__label-arrow\">TargetEncoder</label><div class=\"sk-toggleable__content\"><pre>TargetEncoder(cols=[&#x27;store_id&#x27;],\n",
       "              hierarchy=        HIER_store_id_1\n",
       "0                     1\n",
       "1                     1\n",
       "2                     1\n",
       "3                     3\n",
       "4                     2\n",
       "...                 ...\n",
       "110511                5\n",
       "110512                4\n",
       "110513                1\n",
       "110514                1\n",
       "110515                2\n",
       "\n",
       "[110516 rows x 1 columns])</pre></div></div></div><div class=\"sk-item\"><div class=\"sk-estimator sk-toggleable\"><input class=\"sk-toggleable__control sk-hidden--visually\" id=\"sk-estimator-id-3\" type=\"checkbox\" ><label for=\"sk-estimator-id-3\" class=\"sk-toggleable__label sk-toggleable__label-arrow\">TargetEncoder</label><div class=\"sk-toggleable__content\"><pre>TargetEncoder(cols=[&#x27;market_id&#x27;, &#x27;store_primary_category&#x27;, &#x27;order_protocol&#x27;])</pre></div></div></div></div></div></div></div>"
      ],
      "text/plain": [
       "Pipeline(steps=[('encoder_storeid',\n",
       "                 TargetEncoder(cols=['store_id'],\n",
       "                               hierarchy=        HIER_store_id_1\n",
       "0                     1\n",
       "1                     1\n",
       "2                     1\n",
       "3                     3\n",
       "4                     2\n",
       "...                 ...\n",
       "110511                5\n",
       "110512                4\n",
       "110513                1\n",
       "110514                1\n",
       "110515                2\n",
       "\n",
       "[110516 rows x 1 columns])),\n",
       "                ('encoder',\n",
       "                 TargetEncoder(cols=['market_id', 'store_primary_category',\n",
       "                                     'order_protocol']))])"
      ]
     },
     "execution_count": 11,
     "metadata": {},
     "output_type": "execute_result"
    }
   ],
   "source": [
    "pipeline"
   ]
  },
  {
   "cell_type": "code",
   "execution_count": 12,
   "id": "b6157e7f-e56c-4b0f-ad8a-ea63dc37712b",
   "metadata": {},
   "outputs": [],
   "source": [
    "# Preprocess data\n",
    "X_train = pipeline.fit_transform(X_train, y_train)\n",
    "X_val = pipeline.transform(X_val)\n",
    "X_test = pipeline.transform(X_test)"
   ]
  },
  {
   "cell_type": "markdown",
   "id": "8e41ccc6-0200-4613-b6b4-607663d2260f",
   "metadata": {},
   "source": [
    "# Hyperparameter tuning"
   ]
  },
  {
   "cell_type": "code",
   "execution_count": 13,
   "id": "be6eb57e-374a-49f6-a5ab-a3d72b64c4cf",
   "metadata": {},
   "outputs": [],
   "source": [
    "# Objective function\n",
    "def objective_xgb(trial):\n",
    "\n",
    "    # Define hyperparameter space\n",
    "    learning_rate = trial.suggest_float(\"learning_rate\", 0.05, 0.3)\n",
    "    max_depth = trial.suggest_int(\"max_depth\", 2, 20)\n",
    "    min_child_weight = trial.suggest_int(\"min_child_weight\", 1, 20, log = True)\n",
    "    gamma = trial.suggest_float(\"gamma\", 5e-5, 0.5, log = True)\n",
    "    reg_alpha = trial.suggest_float(\"l1_reg\", 5e-5, 1, log = True)\n",
    "    reg_lambda = trial.suggest_float(\"l2_reg\", 0, 2)\n",
    "    subsample = trial.suggest_float(\"subsample\", 0.5, 1)\n",
    "    colsample_bytree = trial.suggest_float(\"colsample_bytree\", 0.5, 1)\n",
    "\n",
    "    # Create model\n",
    "    callback_pruner = [optuna.integration.XGBoostPruningCallback(\n",
    "        trial, \"validation_0-mean_squared_error\")]\n",
    "    \n",
    "    model = XGBRegressor(\n",
    "        device = \"cuda\",\n",
    "        objective = \"reg:squarederror\",\n",
    "        callbacks = callback_pruner,\n",
    "        verbosity = 0,\n",
    "        random_state = random_state,\n",
    "        n_estimators = 5000,\n",
    "        early_stopping_rounds = 50,\n",
    "        eval_metric = mean_squared_error,\n",
    "        max_depth = max_depth,\n",
    "        learning_rate = learning_rate,\n",
    "        min_child_weight = min_child_weight,\n",
    "        gamma = gamma,\n",
    "        reg_alpha = reg_alpha,\n",
    "        reg_lambda = reg_lambda,\n",
    "        subsample = subsample,\n",
    "        colsample_bytree = colsample_bytree\n",
    "    )\n",
    "\n",
    "    # Train model with early stopping\n",
    "    model.fit(\n",
    "        X_train, \n",
    "        y_train, \n",
    "        eval_set = [(X_val, y_val)], \n",
    "        verbose = False)\n",
    "\n",
    "    # Report best number of rounds\n",
    "    trial.set_user_attr(\"n_rounds\", (model.best_iteration + 1))\n",
    "    \n",
    "    return model.best_score\n",
    "    "
   ]
  },
  {
   "cell_type": "code",
   "execution_count": 14,
   "id": "f9f1ff10-92a0-4eea-841f-72fc536b2fb3",
   "metadata": {},
   "outputs": [
    {
     "name": "stderr",
     "output_type": "stream",
     "text": [
      "[I 2023-11-16 16:15:31,832] A new study created in memory with name: tune_xgb\n"
     ]
    }
   ],
   "source": [
    "# Create study\n",
    "study_xgb = optuna.create_study(\n",
    "  sampler = optuna.samplers.TPESampler(seed = random_state),\n",
    "  pruner = optuna.pruners.HyperbandPruner(),\n",
    "  study_name = \"tune_xgb\",\n",
    "  direction = \"minimize\"\n",
    ")"
   ]
  },
  {
   "cell_type": "code",
   "execution_count": 15,
   "id": "c69c93b3-cb11-4a4c-b746-193ee25cbe5b",
   "metadata": {},
   "outputs": [
    {
     "name": "stderr",
     "output_type": "stream",
     "text": [
      "Best trial: 498. Best value: 790597: 100%|█████████████████████████████████████████| 1000/1000 [03:47<00:00,  4.40it/s]\n"
     ]
    }
   ],
   "source": [
    "# Perform study\n",
    "optuna.logging.set_verbosity(optuna.logging.WARNING)\n",
    "study_xgb.optimize(\n",
    "  objective_xgb, \n",
    "  n_trials = 1000,\n",
    "  show_progress_bar = True)"
   ]
  },
  {
   "cell_type": "code",
   "execution_count": 16,
   "id": "3078a593-9600-4db0-9240-0dc258b7d0a6",
   "metadata": {},
   "outputs": [],
   "source": [
    "# Save tuning log\n",
    "trials_xgb = study_xgb.trials_dataframe().sort_values(\"value\", ascending = True)\n",
    "trials_xgb.to_csv(\"./ModifiedData/trials_xgb.csv\", index = False)"
   ]
  },
  {
   "cell_type": "markdown",
   "id": "e754ada9-1f3e-4112-8996-b4782c3e117e",
   "metadata": {},
   "source": [
    "# Testing & diagnostics"
   ]
  },
  {
   "cell_type": "code",
   "execution_count": 18,
   "id": "ca1efc65-44a2-4bdf-bb9b-9c389dc385c2",
   "metadata": {},
   "outputs": [],
   "source": [
    "# Load best tune\n",
    "best_tune = pd.read_csv(\"./ModifiedData/trials_xgb.csv\").iloc[0]"
   ]
  },
  {
   "cell_type": "code",
   "execution_count": 19,
   "id": "8133bb23-ba38-49ac-aaf8-0dace2ac016d",
   "metadata": {},
   "outputs": [
    {
     "data": {
      "text/plain": [
       "number                                                  498\n",
       "value                                           790597.1875\n",
       "datetime_start                   2023-11-16 16:17:43.543660\n",
       "datetime_complete                2023-11-16 16:17:44.232661\n",
       "duration                             0 days 00:00:00.689001\n",
       "params_colsample_bytree                              0.5256\n",
       "params_gamma                                         0.3301\n",
       "params_l1_reg                                        0.1338\n",
       "params_l2_reg                                        1.3525\n",
       "params_learning_rate                                 0.0872\n",
       "params_max_depth                                          8\n",
       "params_min_child_weight                                  18\n",
       "params_subsample                                     0.9394\n",
       "user_attrs_n_rounds                                 59.0000\n",
       "system_attrs_completed_rung_0                   805460.0625\n",
       "system_attrs_completed_rung_1                   793457.6250\n",
       "system_attrs_completed_rung_2                           NaN\n",
       "system_attrs_completed_rung_3                           NaN\n",
       "state                                              COMPLETE\n",
       "Name: 0, dtype: object"
      ]
     },
     "execution_count": 19,
     "metadata": {},
     "output_type": "execute_result"
    }
   ],
   "source": [
    "best_tune"
   ]
  },
  {
   "cell_type": "code",
   "execution_count": 20,
   "id": "2bd071aa-2cee-4e4d-83b4-62d44309fb37",
   "metadata": {},
   "outputs": [],
   "source": [
    "# Combine train & validation data\n",
    "X_train, X_test = X[:val_end], X[val_end:]\n",
    "y_train, y_test = y[:val_end], y[val_end:]"
   ]
  },
  {
   "cell_type": "code",
   "execution_count": 23,
   "id": "dee21f03-ede1-49dc-bd33-1f789b0dadb5",
   "metadata": {},
   "outputs": [],
   "source": [
    "# Preprocess data\n",
    "X_train = pipeline.fit_transform(X_train, y_train)\n",
    "X_test = pipeline.transform(X_test)"
   ]
  },
  {
   "cell_type": "code",
   "execution_count": 26,
   "id": "172949b2-ee31-446e-a4e0-f4c4127d50d9",
   "metadata": {},
   "outputs": [
    {
     "data": {
      "text/html": [
       "<style>#sk-container-id-2 {color: black;}#sk-container-id-2 pre{padding: 0;}#sk-container-id-2 div.sk-toggleable {background-color: white;}#sk-container-id-2 label.sk-toggleable__label {cursor: pointer;display: block;width: 100%;margin-bottom: 0;padding: 0.3em;box-sizing: border-box;text-align: center;}#sk-container-id-2 label.sk-toggleable__label-arrow:before {content: \"▸\";float: left;margin-right: 0.25em;color: #696969;}#sk-container-id-2 label.sk-toggleable__label-arrow:hover:before {color: black;}#sk-container-id-2 div.sk-estimator:hover label.sk-toggleable__label-arrow:before {color: black;}#sk-container-id-2 div.sk-toggleable__content {max-height: 0;max-width: 0;overflow: hidden;text-align: left;background-color: #f0f8ff;}#sk-container-id-2 div.sk-toggleable__content pre {margin: 0.2em;color: black;border-radius: 0.25em;background-color: #f0f8ff;}#sk-container-id-2 input.sk-toggleable__control:checked~div.sk-toggleable__content {max-height: 200px;max-width: 100%;overflow: auto;}#sk-container-id-2 input.sk-toggleable__control:checked~label.sk-toggleable__label-arrow:before {content: \"▾\";}#sk-container-id-2 div.sk-estimator input.sk-toggleable__control:checked~label.sk-toggleable__label {background-color: #d4ebff;}#sk-container-id-2 div.sk-label input.sk-toggleable__control:checked~label.sk-toggleable__label {background-color: #d4ebff;}#sk-container-id-2 input.sk-hidden--visually {border: 0;clip: rect(1px 1px 1px 1px);clip: rect(1px, 1px, 1px, 1px);height: 1px;margin: -1px;overflow: hidden;padding: 0;position: absolute;width: 1px;}#sk-container-id-2 div.sk-estimator {font-family: monospace;background-color: #f0f8ff;border: 1px dotted black;border-radius: 0.25em;box-sizing: border-box;margin-bottom: 0.5em;}#sk-container-id-2 div.sk-estimator:hover {background-color: #d4ebff;}#sk-container-id-2 div.sk-parallel-item::after {content: \"\";width: 100%;border-bottom: 1px solid gray;flex-grow: 1;}#sk-container-id-2 div.sk-label:hover label.sk-toggleable__label {background-color: #d4ebff;}#sk-container-id-2 div.sk-serial::before {content: \"\";position: absolute;border-left: 1px solid gray;box-sizing: border-box;top: 0;bottom: 0;left: 50%;z-index: 0;}#sk-container-id-2 div.sk-serial {display: flex;flex-direction: column;align-items: center;background-color: white;padding-right: 0.2em;padding-left: 0.2em;position: relative;}#sk-container-id-2 div.sk-item {position: relative;z-index: 1;}#sk-container-id-2 div.sk-parallel {display: flex;align-items: stretch;justify-content: center;background-color: white;position: relative;}#sk-container-id-2 div.sk-item::before, #sk-container-id-2 div.sk-parallel-item::before {content: \"\";position: absolute;border-left: 1px solid gray;box-sizing: border-box;top: 0;bottom: 0;left: 50%;z-index: -1;}#sk-container-id-2 div.sk-parallel-item {display: flex;flex-direction: column;z-index: 1;position: relative;background-color: white;}#sk-container-id-2 div.sk-parallel-item:first-child::after {align-self: flex-end;width: 50%;}#sk-container-id-2 div.sk-parallel-item:last-child::after {align-self: flex-start;width: 50%;}#sk-container-id-2 div.sk-parallel-item:only-child::after {width: 0;}#sk-container-id-2 div.sk-dashed-wrapped {border: 1px dashed gray;margin: 0 0.4em 0.5em 0.4em;box-sizing: border-box;padding-bottom: 0.4em;background-color: white;}#sk-container-id-2 div.sk-label label {font-family: monospace;font-weight: bold;display: inline-block;line-height: 1.2em;}#sk-container-id-2 div.sk-label-container {text-align: center;}#sk-container-id-2 div.sk-container {/* jupyter's `normalize.less` sets `[hidden] { display: none; }` but bootstrap.min.css set `[hidden] { display: none !important; }` so we also need the `!important` here to be able to override the default hidden behavior on the sphinx rendered scikit-learn.org. See: https://github.com/scikit-learn/scikit-learn/issues/21755 */display: inline-block !important;position: relative;}#sk-container-id-2 div.sk-text-repr-fallback {display: none;}</style><div id=\"sk-container-id-2\" class=\"sk-top-container\"><div class=\"sk-text-repr-fallback\"><pre>XGBRegressor(base_score=None, booster=None, callbacks=None,\n",
       "             colsample_bylevel=None, colsample_bynode=None,\n",
       "             colsample_bytree=0.5256269981732478, device=&#x27;cuda&#x27;,\n",
       "             early_stopping_rounds=None, enable_categorical=False,\n",
       "             eval_metric=None, feature_types=None, gamma=0.3301200987027496,\n",
       "             grow_policy=None, importance_type=None,\n",
       "             interaction_constraints=None, learning_rate=0.087248122000276,\n",
       "             max_bin=None, max_cat_threshold=None, max_cat_to_onehot=None,\n",
       "             max_delta_step=None, max_depth=8, max_leaves=None,\n",
       "             min_child_weight=18, missing=nan, monotone_constraints=None,\n",
       "             multi_strategy=None, n_estimators=59, n_jobs=None,\n",
       "             num_parallel_tree=None, random_state=1923, ...)</pre><b>In a Jupyter environment, please rerun this cell to show the HTML representation or trust the notebook. <br />On GitHub, the HTML representation is unable to render, please try loading this page with nbviewer.org.</b></div><div class=\"sk-container\" hidden><div class=\"sk-item\"><div class=\"sk-estimator sk-toggleable\"><input class=\"sk-toggleable__control sk-hidden--visually\" id=\"sk-estimator-id-4\" type=\"checkbox\" checked><label for=\"sk-estimator-id-4\" class=\"sk-toggleable__label sk-toggleable__label-arrow\">XGBRegressor</label><div class=\"sk-toggleable__content\"><pre>XGBRegressor(base_score=None, booster=None, callbacks=None,\n",
       "             colsample_bylevel=None, colsample_bynode=None,\n",
       "             colsample_bytree=0.5256269981732478, device=&#x27;cuda&#x27;,\n",
       "             early_stopping_rounds=None, enable_categorical=False,\n",
       "             eval_metric=None, feature_types=None, gamma=0.3301200987027496,\n",
       "             grow_policy=None, importance_type=None,\n",
       "             interaction_constraints=None, learning_rate=0.087248122000276,\n",
       "             max_bin=None, max_cat_threshold=None, max_cat_to_onehot=None,\n",
       "             max_delta_step=None, max_depth=8, max_leaves=None,\n",
       "             min_child_weight=18, missing=nan, monotone_constraints=None,\n",
       "             multi_strategy=None, n_estimators=59, n_jobs=None,\n",
       "             num_parallel_tree=None, random_state=1923, ...)</pre></div></div></div></div></div>"
      ],
      "text/plain": [
       "XGBRegressor(base_score=None, booster=None, callbacks=None,\n",
       "             colsample_bylevel=None, colsample_bynode=None,\n",
       "             colsample_bytree=0.5256269981732478, device='cuda',\n",
       "             early_stopping_rounds=None, enable_categorical=False,\n",
       "             eval_metric=None, feature_types=None, gamma=0.3301200987027496,\n",
       "             grow_policy=None, importance_type=None,\n",
       "             interaction_constraints=None, learning_rate=0.087248122000276,\n",
       "             max_bin=None, max_cat_threshold=None, max_cat_to_onehot=None,\n",
       "             max_delta_step=None, max_depth=8, max_leaves=None,\n",
       "             min_child_weight=18, missing=nan, monotone_constraints=None,\n",
       "             multi_strategy=None, n_estimators=59, n_jobs=None,\n",
       "             num_parallel_tree=None, random_state=1923, ...)"
      ]
     },
     "execution_count": 26,
     "metadata": {},
     "output_type": "execute_result"
    }
   ],
   "source": [
    "# Train final model\n",
    "model = XGBRegressor(\n",
    "        device = \"cuda\",\n",
    "        objective = \"reg:squarederror\",\n",
    "        random_state = random_state,\n",
    "        n_estimators = int(best_tune[\"user_attrs_n_rounds\"]),\n",
    "        max_depth = best_tune[\"params_max_depth\"],\n",
    "        learning_rate = best_tune[\"params_learning_rate\"],\n",
    "        min_child_weight = best_tune[\"params_min_child_weight\"],\n",
    "        gamma = best_tune[\"params_gamma\"],\n",
    "        reg_alpha = best_tune[\"params_l1_reg\"],\n",
    "        reg_lambda = best_tune[\"params_l2_reg\"],\n",
    "        subsample = best_tune[\"params_subsample\"],\n",
    "        colsample_bytree = best_tune[\"params_colsample_bytree\"])\n",
    "\n",
    "model.fit(X_train, y_train)"
   ]
  },
  {
   "cell_type": "code",
   "execution_count": 27,
   "id": "4d4f7ca8-4535-4832-9b49-6a406d0f758a",
   "metadata": {},
   "outputs": [
    {
     "name": "stderr",
     "output_type": "stream",
     "text": [
      "C:\\Users\\PC\\Documents\\WorkLocal\\DataScience\\GitHub\\MixedEffectsRegressionDeliveryTimes\\venv\\lib\\site-packages\\xgboost\\core.py:160: UserWarning: [16:29:18] WARNING: C:\\buildkite-agent\\builds\\buildkite-windows-cpu-autoscaling-group-i-07f6e447eee219473-1\\xgboost\\xgboost-ci-windows\\src\\common\\error_msg.cc:58: Falling back to prediction using DMatrix due to mismatched devices. This might lead to higher memory usage and slower performance. XGBoost is running on: cuda:0, while the input data is on: cpu.\n",
      "Potential solutions:\n",
      "- Use a data structure that matches the device ordinal in the booster.\n",
      "- Set the device for booster before call to inplace_predict.\n",
      "\n",
      "This warning will only be shown once.\n",
      "\n",
      "  warnings.warn(smsg, UserWarning)\n"
     ]
    }
   ],
   "source": [
    "# Make predictions on test data\n",
    "preds = model.predict(X_test)"
   ]
  },
  {
   "cell_type": "code",
   "execution_count": 59,
   "id": "ae610f12-d4f3-4277-ae65-0ba2f6502cab",
   "metadata": {},
   "outputs": [],
   "source": [
    "# Combine back with test data\n",
    "df_pred = X_test.copy()\n",
    "df_pred[\"preds\"] = preds\n",
    "df_pred[\"actual\"] = y_test"
   ]
  },
  {
   "cell_type": "code",
   "execution_count": 60,
   "id": "a8d9cfff-aaaf-43e3-8f36-ddac0f424b45",
   "metadata": {},
   "outputs": [
    {
     "data": {
      "text/plain": [
       "1147.8935040621188"
      ]
     },
     "execution_count": 60,
     "metadata": {},
     "output_type": "execute_result"
    }
   ],
   "source": [
    "# Calculate RMSE\n",
    "mean_squared_error(df_pred[\"actual\"], df_pred[\"preds\"], squared = False)"
   ]
  },
  {
   "cell_type": "code",
   "execution_count": 64,
   "id": "71384fd7-f293-4246-b317-47836bbcb69c",
   "metadata": {},
   "outputs": [],
   "source": [
    "# Drop extreme values for visualization?\n",
    "max_val = max(df_pred[\"actual\"])\n",
    "#high_val = 12500\n",
    "#df_pred = df_pred[df_pred[\"actual\"] < high_val]"
   ]
  },
  {
   "cell_type": "code",
   "execution_count": 65,
   "id": "013eb645-228d-4a92-8980-fb894fe44cee",
   "metadata": {},
   "outputs": [
    {
     "data": {
      "image/png": "[encoded data removed]",
      "text/plain": [
       "<Figure size 640x480 with 1 Axes>"
      ]
     },
     "metadata": {},
     "output_type": "display_data"
    }
   ],
   "source": [
    "# Plot predicted vs. actual\n",
    "ax = plt.subplot()\n",
    "_ = ax.scatter(df_pred[\"actual\"], df_pred[\"preds\"])\n",
    "_ = ax.plot([0, 1], [0, 1], transform=ax.transAxes, c = \"red\")\n",
    "_ = ax.set_xlim(0, max_val + 500)\n",
    "_ = ax.set_ylim(0, max_val + 500)\n",
    "_ = ax.set_xlabel(\"actual\")\n",
    "_ = ax.set_ylabel(\"predicted\")"
   ]
  },
  {
   "cell_type": "code",
   "execution_count": 66,
   "id": "c8c76ba0-6f9c-4fb5-9854-b9ef341752ce",
   "metadata": {},
   "outputs": [
    {
     "data": {
      "image/png": "[encoded data removed]",
      "text/plain": [
       "<Figure size 500x500 with 1 Axes>"
      ]
     },
     "metadata": {},
     "output_type": "display_data"
    }
   ],
   "source": [
    "# Residual distribution\n",
    "_ = sns.displot(df_pred[\"actual\"] - df_pred[\"preds\"])\n",
    "_ = plt.title(\"residual distribution\")"
   ]
  }
 ],
 "metadata": {
  "kernelspec": {
   "display_name": "Python 3 (ipykernel)",
   "language": "python",
   "name": "python3"
  },
  "language_info": {
   "codemirror_mode": {
    "name": "ipython",
    "version": 3
   },
   "file_extension": ".py",
   "mimetype": "text/x-python",
   "name": "python",
   "nbconvert_exporter": "python",
   "pygments_lexer": "ipython3",
   "version": "3.10.8"
  }
 },
 "nbformat": 4,
 "nbformat_minor": 5
}
