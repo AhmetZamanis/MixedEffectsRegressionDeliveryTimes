{
 "cells": [
  {
   "cell_type": "code",
   "execution_count": 1,
   "id": "5c6a6aeb-fdb8-4b45-be3c-23a96473fa0f",
   "metadata": {},
   "outputs": [
    {
     "name": "stderr",
     "output_type": "stream",
     "text": [
      "C:\\Users\\PC\\Documents\\WorkLocal\\DataScience\\GitHub\\MixedEffectsRegressionDeliveryTimes\\venv\\lib\\site-packages\\tqdm\\auto.py:21: TqdmWarning: IProgress not found. Please update jupyter and ipywidgets. See https://ipywidgets.readthedocs.io/en/stable/user_install.html\n",
      "  from .autonotebook import tqdm as notebook_tqdm\n"
     ]
    }
   ],
   "source": [
    "import pandas as pd\n",
    "import numpy as np\n",
    "import matplotlib.pyplot as plt\n",
    "\n",
    "from ydata_profiling import ProfileReport"
   ]
  },
  {
   "cell_type": "code",
   "execution_count": 2,
   "id": "12ee8f9d-86a0-4182-9cfb-6880eb84e020",
   "metadata": {},
   "outputs": [],
   "source": [
    "# Set print options\n",
    "np.set_printoptions(suppress=True, precision=4, edgeitems = 7)\n",
    "pd.options.display.float_format = '{:.4f}'.format\n",
    "pd.set_option('display.max_columns', None)"
   ]
  },
  {
   "cell_type": "code",
   "execution_count": 3,
   "id": "64ae4654-fe3b-4cdf-91bd-d3c3304a68cb",
   "metadata": {},
   "outputs": [],
   "source": [
    "# Read data\n",
    "df = pd.read_csv(\"./InputData/full_data.csv\")"
   ]
  },
  {
   "cell_type": "code",
   "execution_count": 4,
   "id": "906f0d10-d03c-4b28-8101-29532a1a8f9e",
   "metadata": {},
   "outputs": [],
   "source": [
    "# Enforce variable types\n",
    "df[\"market_id\"] = df[\"market_id\"].astype(str)\n",
    "df[\"store_id\"] = df[\"store_id\"].astype(str)\n",
    "df[\"order_protocol\"] = df[\"order_protocol\"].astype(str)"
   ]
  },
  {
   "cell_type": "code",
   "execution_count": 5,
   "id": "7450e609-7a45-4391-8655-d9145887dcb7",
   "metadata": {},
   "outputs": [],
   "source": [
    "# Drop non-feature variables\n",
    "df = df.drop(['created_at', 'actual_delivery_time'], axis = 1)"
   ]
  },
  {
   "cell_type": "code",
   "execution_count": 6,
   "id": "9d499505-ce4d-4d89-8217-d8d21238ddbe",
   "metadata": {},
   "outputs": [
    {
     "data": {
      "text/plain": [
       "market_id                                        object\n",
       "store_id                                         object\n",
       "store_primary_category                           object\n",
       "order_protocol                                   object\n",
       "total_items                                       int64\n",
       "subtotal                                          int64\n",
       "num_distinct_items                                int64\n",
       "min_item_price                                    int64\n",
       "max_item_price                                    int64\n",
       "total_onshift_dashers                           float64\n",
       "total_busy_dashers                              float64\n",
       "total_outstanding_orders                        float64\n",
       "estimated_order_place_duration                    int64\n",
       "estimated_store_to_consumer_driving_duration    float64\n",
       "weekday_0                                         int64\n",
       "weekday_1                                         int64\n",
       "weekday_2                                         int64\n",
       "weekday_3                                         int64\n",
       "weekday_4                                         int64\n",
       "weekday_5                                         int64\n",
       "weekday_6                                         int64\n",
       "hour_sin                                        float64\n",
       "hour_cos                                        float64\n",
       "minute_sin                                      float64\n",
       "minute_cos                                      float64\n",
       "superbowl                                         int64\n",
       "valentines                                        int64\n",
       "total_available_dashers                         float64\n",
       "ratio_busy_dashers                              float64\n",
       "busy_score                                      float64\n",
       "duration                                          int64\n",
       "dtype: object"
      ]
     },
     "execution_count": 6,
     "metadata": {},
     "output_type": "execute_result"
    }
   ],
   "source": [
    "df.dtypes"
   ]
  },
  {
   "cell_type": "markdown",
   "id": "21f190c7-4232-4741-bf72-55347afe6ae5",
   "metadata": {},
   "source": [
    "# Automated"
   ]
  },
  {
   "cell_type": "code",
   "execution_count": 7,
   "id": "32cc6c76-979c-43e5-a789-f5f1f81172cc",
   "metadata": {},
   "outputs": [],
   "source": [
    "# Generate EDA report\n",
    "df_report = df.drop([\n",
    "    'weekday_0', 'weekday_1', 'weekday_2', 'weekday_3', 'weekday_4', 'weekday_5',\n",
    "    'weekday_6', 'hour_sin', 'hour_cos', 'minute_sin', 'minute_cos',\n",
    "    'superbowl', 'valentines'], axis = 1)\n",
    "\n",
    "profile = ProfileReport(\n",
    "    df_report,\n",
    "    type_schema = {\n",
    "        \"market_id\": \"categorical\",\n",
    "        \"store_id\": \"categorical\",\n",
    "        \"store_primary_category\": \"categorical\",\n",
    "        \"order_protocol\": \"categorical\",\n",
    "        \n",
    "    }, \n",
    "    vars = {\n",
    "        \"num\": {\"low_categorical_threshold\": 0},\n",
    "        \"cat\": {\"length\": False}\n",
    "    },\n",
    "    missing_diagrams = None,\n",
    "    correlations={\n",
    "        \"auto\": {\"threshold\": 0.6}\n",
    "    },\n",
    "    interactions = {\"targets\": [\"duration\"]}\n",
    " )"
   ]
  },
  {
   "cell_type": "code",
   "execution_count": 8,
   "id": "a7f972fa-672c-4a4a-aeb0-f7e31b7bbdbe",
   "metadata": {},
   "outputs": [
    {
     "name": "stderr",
     "output_type": "stream",
     "text": [
      "Summarize dataset: 100%|████████████████████████████████████████████████████| 39/39 [00:02<00:00, 13.35it/s, Completed]\n",
      "Generate report structure: 100%|█████████████████████████████████████████████████████████| 1/1 [00:02<00:00,  2.24s/it]\n",
      "Render HTML: 100%|███████████████████████████████████████████████████████████████████████| 1/1 [00:00<00:00,  2.47it/s]\n",
      "Export report to file: 100%|████████████████████████████████████████████████████████████| 1/1 [00:00<00:00, 333.44it/s]\n"
     ]
    }
   ],
   "source": [
    "profile.to_file(\"EDAReport.html\")"
   ]
  },
  {
   "cell_type": "markdown",
   "id": "a51ee254-aed4-439b-8ef1-337c6c293ff1",
   "metadata": {},
   "source": [
    "# Manual"
   ]
  }
 ],
 "metadata": {
  "kernelspec": {
   "display_name": "Python 3 (ipykernel)",
   "language": "python",
   "name": "python3"
  },
  "language_info": {
   "codemirror_mode": {
    "name": "ipython",
    "version": 3
   },
   "file_extension": ".py",
   "mimetype": "text/x-python",
   "name": "python",
   "nbconvert_exporter": "python",
   "pygments_lexer": "ipython3",
   "version": "3.10.8"
  }
 },
 "nbformat": 4,
 "nbformat_minor": 5
}
