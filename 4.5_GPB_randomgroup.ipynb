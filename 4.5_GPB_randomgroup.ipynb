{
 "cells": [
  {
   "cell_type": "code",
   "execution_count": 1,
   "id": "cbc33597-a506-4de3-8f4c-5547bd6d44ae",
   "metadata": {},
   "outputs": [
    {
     "name": "stderr",
     "output_type": "stream",
     "text": [
      "IProgress not found. Please update jupyter and ipywidgets. See https://ipywidgets.readthedocs.io/en/stable/user_install.html\n"
     ]
    }
   ],
   "source": [
    "import pandas as pd\n",
    "import numpy as np\n",
    "import matplotlib.pyplot as plt\n",
    "import seaborn as sns\n",
    "import shap\n",
    "import optuna\n",
    "\n",
    "from category_encoders.target_encoder import TargetEncoder\n",
    "from sklearn.pipeline import Pipeline\n",
    "from sklearn.metrics import mean_squared_error, mean_absolute_percentage_error\n",
    "import gpboost as gpb"
   ]
  },
  {
   "cell_type": "code",
   "execution_count": 2,
   "id": "82f77199-a3e0-47c3-a12a-043c5231fd93",
   "metadata": {},
   "outputs": [],
   "source": [
    "# Set print options\n",
    "np.set_printoptions(suppress=True, precision=6, edgeitems = 7)\n",
    "pd.options.display.float_format = '{:.6f}'.format\n",
    "pd.set_option('display.max_columns', None)"
   ]
  },
  {
   "cell_type": "markdown",
   "id": "2a7ce8d1-fbb8-4b45-a5e9-573311eefc95",
   "metadata": {},
   "source": [
    "Notebook objective: Test GPBoost model with a random effect intercept for an arbitrary grouping variable, and with store_id as a target encoded fixed predictor. Goal is to understand why the GPBoost booster doesn't seem to learn properly."
   ]
  },
  {
   "cell_type": "markdown",
   "id": "c95e9fad-1be1-4116-b487-1567e7279536",
   "metadata": {},
   "source": [
    "# Preprocessing"
   ]
  },
  {
   "cell_type": "code",
   "execution_count": 3,
   "id": "a23c8862-6788-4f6b-8a36-ed4bde4a5a91",
   "metadata": {},
   "outputs": [],
   "source": [
    "random_state = 1923"
   ]
  },
  {
   "cell_type": "code",
   "execution_count": 4,
   "id": "a5900f5f-0604-43c5-b163-d4f364cc27f2",
   "metadata": {},
   "outputs": [],
   "source": [
    "# Read data\n",
    "df = pd.read_csv(\"./InputData/full_data.csv\")"
   ]
  },
  {
   "cell_type": "code",
   "execution_count": 5,
   "id": "8ef8a2f9-6571-4ddc-a328-f2de62cb616b",
   "metadata": {},
   "outputs": [],
   "source": [
    "# Reindex data from 0:N\n",
    "df = df.reset_index(drop = True)"
   ]
  },
  {
   "cell_type": "code",
   "execution_count": 6,
   "id": "3c46f396-0e6b-4172-b2f7-9655b828d9f5",
   "metadata": {},
   "outputs": [],
   "source": [
    "# Drop rows with too high duration\n",
    "high_end = 10800 # 3 hours\n",
    "df = df[df[\"duration\"] <= high_end]"
   ]
  },
  {
   "cell_type": "code",
   "execution_count": 7,
   "id": "bc0906e1-6a9d-48e2-9d62-673c32c868c9",
   "metadata": {},
   "outputs": [],
   "source": [
    "# Split features & target, drop non-feature columns\n",
    "X = df.drop([\"created_at\", \"actual_delivery_time\", \"duration\"], axis = 1)\n",
    "y = df.duration"
   ]
  },
  {
   "cell_type": "code",
   "execution_count": 8,
   "id": "c082ef72-7b2f-4a96-80e6-e3db41d0b86e",
   "metadata": {},
   "outputs": [],
   "source": [
    "# Create random group variable\n",
    "rng = np.random.default_rng(random_state)\n",
    "G = rng.choice(100, size = y.shape)"
   ]
  },
  {
   "cell_type": "code",
   "execution_count": 9,
   "id": "1ef6a64c-4900-419e-87f6-902eb21566d9",
   "metadata": {},
   "outputs": [
    {
     "data": {
      "text/plain": [
       "(array([ 0,  1,  2,  3,  4,  5,  6,  7,  8,  9, 10, 11, 12, 13, 14, 15, 16,\n",
       "        17, 18, 19, 20, 21, 22, 23, 24, 25, 26, 27, 28, 29, 30, 31, 32, 33,\n",
       "        34, 35, 36, 37, 38, 39, 40, 41, 42, 43, 44, 45, 46, 47, 48, 49, 50,\n",
       "        51, 52, 53, 54, 55, 56, 57, 58, 59, 60, 61, 62, 63, 64, 65, 66, 67,\n",
       "        68, 69, 70, 71, 72, 73, 74, 75, 76, 77, 78, 79, 80, 81, 82, 83, 84,\n",
       "        85, 86, 87, 88, 89, 90, 91, 92, 93, 94, 95, 96, 97, 98, 99],\n",
       "       dtype=int64),\n",
       " array([1101, 1090, 1111, 1084, 1099, 1106, 1123, 1104, 1085, 1042, 1121,\n",
       "        1137, 1096, 1043, 1154, 1099, 1087, 1144, 1097, 1110, 1061, 1096,\n",
       "        1074, 1052, 1180, 1071, 1115, 1116, 1103, 1100, 1113, 1119, 1085,\n",
       "        1095, 1090, 1141, 1119, 1058, 1031, 1139, 1153, 1129, 1121, 1126,\n",
       "        1127, 1132, 1070, 1144, 1132, 1092, 1104, 1149, 1149, 1179, 1079,\n",
       "        1106, 1123, 1127, 1130, 1108, 1048, 1139, 1097, 1063, 1132, 1130,\n",
       "        1106, 1115, 1054, 1044, 1118, 1119, 1091, 1053, 1104, 1108, 1065,\n",
       "        1060, 1157, 1079, 1103, 1151, 1096, 1058, 1124, 1090, 1128, 1097,\n",
       "        1079, 1079, 1133, 1110, 1066, 1063, 1147, 1117, 1138, 1101, 1078,\n",
       "        1121], dtype=int64))"
      ]
     },
     "execution_count": 9,
     "metadata": {},
     "output_type": "execute_result"
    }
   ],
   "source": [
    "np.unique(G, return_counts = True)"
   ]
  },
  {
   "cell_type": "code",
   "execution_count": 10,
   "id": "dbab0605-a3e4-46a2-a24a-85a41b9e9da6",
   "metadata": {},
   "outputs": [],
   "source": [
    "# Enforce dtype of group variable\n",
    "G = G.astype(\"str\") "
   ]
  },
  {
   "cell_type": "code",
   "execution_count": 11,
   "id": "53d09f8e-2271-49f4-89a7-c3f28f9d1bfc",
   "metadata": {},
   "outputs": [],
   "source": [
    "train_end = int(len(df) * 0.6)"
   ]
  },
  {
   "cell_type": "code",
   "execution_count": 12,
   "id": "871f4a04-b237-4cf2-92e0-eb65950b63a4",
   "metadata": {},
   "outputs": [],
   "source": [
    "val_end = train_end + int(len(df) * 0.2)"
   ]
  },
  {
   "cell_type": "code",
   "execution_count": 13,
   "id": "45363f4b-00d7-4d9d-b3e0-87c520404996",
   "metadata": {},
   "outputs": [],
   "source": [
    "# Train - val - test split, 60 - 20 - 20\n",
    "X_train, X_val, X_test = X[:train_end], X[train_end:val_end], X[val_end:]\n",
    "G_train, G_val, G_test = G[:train_end], G[train_end:val_end], G[val_end:]\n",
    "y_train, y_val, y_test = y[:train_end], y[train_end:val_end], y[val_end:]"
   ]
  },
  {
   "cell_type": "code",
   "execution_count": 14,
   "id": "1dfc931e-f94a-4d97-a894-bb23216c3f41",
   "metadata": {},
   "outputs": [],
   "source": [
    "# Create target encoders\n",
    "\n",
    "# store_id encoder with hierarchy, top level market_id\n",
    "hierarchy = pd.DataFrame(X[\"market_id\"]).rename({\"market_id\": \"HIER_store_id_1\"}, axis = 1)\n",
    "encoder_storeid = TargetEncoder(cols = [\"store_id\"], hierarchy = hierarchy)\n",
    "\n",
    "# Encoder for remaining categoricals, without hierarchy\n",
    "encoder = TargetEncoder(cols = [\"market_id\", \"store_primary_category\", \"order_protocol\"])\n",
    "\n",
    "pipeline = Pipeline([\n",
    "    (\"encoder_storeid\", encoder_storeid),\n",
    "    (\"encoder\", encoder)\n",
    "])"
   ]
  },
  {
   "cell_type": "code",
   "execution_count": 15,
   "id": "b6157e7f-e56c-4b0f-ad8a-ea63dc37712b",
   "metadata": {},
   "outputs": [],
   "source": [
    "# Preprocess data\n",
    "X_train = pipeline .fit_transform(X_train, y_train)\n",
    "X_val = pipeline .transform(X_val)\n",
    "X_test = pipeline .transform(X_test)"
   ]
  },
  {
   "cell_type": "markdown",
   "id": "8e41ccc6-0200-4613-b6b4-607663d2260f",
   "metadata": {},
   "source": [
    "# Hyperparameter tuning"
   ]
  },
  {
   "cell_type": "code",
   "execution_count": 26,
   "id": "be6eb57e-374a-49f6-a5ab-a3d72b64c4cf",
   "metadata": {},
   "outputs": [],
   "source": [
    "# Objective function\n",
    "def objective_gpb(trial):\n",
    "\n",
    "    # Define hyperparameter space\n",
    "    learning_rate = trial.suggest_float(\"learning_rate\", 0.05, 0.5)\n",
    "    num_leaves = trial.suggest_int(\"num_leaves\", 2**2, 2**10)\n",
    "    #max_depth = trial.suggest_int(\"max_depth\", 2, 20) # Max depth of 20 is too restrictive for LightGBM\n",
    "    min_child_samples = trial.suggest_int(\"min_child_samples\", 10, 1000, log = True)\n",
    "    min_child_weight = trial.suggest_float(\"min_child_weight\", 0.001, 20, log = True)\n",
    "    reg_alpha = trial.suggest_float(\"l1_reg\", 0, 1)\n",
    "    reg_lambda = trial.suggest_float(\"l2_reg\", 0, 2)\n",
    "    colsample_bytree = trial.suggest_float(\"colsample_bytree\", 0.25, 1)\n",
    "\n",
    "    # Create model\n",
    "    #callbacks = [gpb.early_stopping(50)]\n",
    "    \n",
    "    model = gpb.GPBoostRegressor(\n",
    "        n_jobs = 10,\n",
    "        #device_type = \"gpu\",\n",
    "        n_estimators = 5000,\n",
    "        num_leaves = num_leaves,\n",
    "        random_state = random_state,\n",
    "        #max_depth = max_depth,\n",
    "        max_depth = -1,\n",
    "        min_child_samples = min_child_samples,\n",
    "        learning_rate = learning_rate,\n",
    "        min_child_weight = min_child_weight,\n",
    "        reg_alpha = reg_alpha,\n",
    "        reg_lambda = reg_lambda,\n",
    "        colsample_bytree = colsample_bytree\n",
    "    )\n",
    "\n",
    "    # Create random effects model\n",
    "    gp_model = gpb.GPModel(\n",
    "        group_data = G_train, # Random intercepts for each group\n",
    "        likelihood = \"gaussian\",\n",
    "        seed = random_state\n",
    "    )\n",
    "    gp_model.set_prediction_data(group_data_pred = G_val)\n",
    "\n",
    "    # Train model with early stopping\n",
    "    model.fit(\n",
    "        X_train, \n",
    "        y_train,\n",
    "        gp_model = gp_model, \n",
    "        eval_set = [(X_val, y_val)],\n",
    "        early_stopping_rounds = 50,\n",
    "        #callbacks = callbacks,\n",
    "        verbose = False)\n",
    "\n",
    "    # Report best number of rounds\n",
    "    trial.set_user_attr(\"n_rounds\", (model.best_iteration_ + 1))\n",
    "    \n",
    "    return model.best_score_['valid_0']['l2']\n"
   ]
  },
  {
   "cell_type": "code",
   "execution_count": 27,
   "id": "f9f1ff10-92a0-4eea-841f-72fc536b2fb3",
   "metadata": {},
   "outputs": [
    {
     "name": "stderr",
     "output_type": "stream",
     "text": [
      "[I 2023-11-29 18:47:48,453] A new study created in memory with name: tune_gpb\n"
     ]
    }
   ],
   "source": [
    "# Create study\n",
    "study_gpb = optuna.create_study(\n",
    "  sampler = optuna.samplers.TPESampler(seed = random_state),\n",
    "  study_name = \"tune_gpb\",\n",
    "  direction = \"minimize\"\n",
    ")"
   ]
  },
  {
   "cell_type": "code",
   "execution_count": null,
   "id": "c69c93b3-cb11-4a4c-b746-193ee25cbe5b",
   "metadata": {},
   "outputs": [],
   "source": [
    "# Perform study\n",
    "optuna.logging.set_verbosity(optuna.logging.WARNING)\n",
    "study_gpb.optimize(\n",
    "  objective_gpb, \n",
    "  n_trials = 100,\n",
    "  show_progress_bar = True)"
   ]
  },
  {
   "cell_type": "code",
   "execution_count": 30,
   "id": "3078a593-9600-4db0-9240-0dc258b7d0a6",
   "metadata": {},
   "outputs": [],
   "source": [
    "# Save tuning log\n",
    "trials_gpb = study_gpb.trials_dataframe().sort_values(\"value\", ascending = True)\n",
    "trials_gpb.to_csv(\"./ModifiedData/trials_gpb_random.csv\", index = False)"
   ]
  },
  {
   "cell_type": "markdown",
   "id": "e754ada9-1f3e-4112-8996-b4782c3e117e",
   "metadata": {},
   "source": [
    "# Testing & diagnostics"
   ]
  },
  {
   "cell_type": "code",
   "execution_count": 16,
   "id": "ca1efc65-44a2-4bdf-bb9b-9c389dc385c2",
   "metadata": {},
   "outputs": [],
   "source": [
    "# Load best tune\n",
    "best_tune = pd.read_csv(\"./ModifiedData/trials_gpb_random.csv\").iloc[0]"
   ]
  },
  {
   "cell_type": "code",
   "execution_count": 17,
   "id": "8133bb23-ba38-49ac-aaf8-0dace2ac016d",
   "metadata": {},
   "outputs": [
    {
     "data": {
      "text/plain": [
       "number                                              27\n",
       "value                                    997921.078500\n",
       "datetime_start              2023-11-29 18:58:40.712618\n",
       "datetime_complete           2023-11-29 18:59:17.288824\n",
       "duration                        0 days 00:00:36.576206\n",
       "params_colsample_bytree                       0.629845\n",
       "params_l1_reg                                 0.002815\n",
       "params_l2_reg                                 0.257295\n",
       "params_learning_rate                          0.459331\n",
       "params_min_child_samples                           353\n",
       "params_min_child_weight                       0.063274\n",
       "params_num_leaves                                  305\n",
       "user_attrs_n_rounds                        5001.000000\n",
       "state                                         COMPLETE\n",
       "Name: 0, dtype: object"
      ]
     },
     "execution_count": 17,
     "metadata": {},
     "output_type": "execute_result"
    }
   ],
   "source": [
    "best_tune"
   ]
  },
  {
   "cell_type": "code",
   "execution_count": 18,
   "id": "2bd071aa-2cee-4e4d-83b4-62d44309fb37",
   "metadata": {},
   "outputs": [],
   "source": [
    "# Combine train & validation data\n",
    "X_train, X_test = X[:val_end], X[val_end:]\n",
    "G_train, G_test = G[:val_end], G[val_end:]\n",
    "y_train, y_test = y[:val_end], y[val_end:]"
   ]
  },
  {
   "cell_type": "code",
   "execution_count": 19,
   "id": "dee21f03-ede1-49dc-bd33-1f789b0dadb5",
   "metadata": {},
   "outputs": [],
   "source": [
    "# Preprocess data\n",
    "X_train = encoder.fit_transform(X_train, y_train)\n",
    "X_test = encoder.transform(X_test)"
   ]
  },
  {
   "cell_type": "code",
   "execution_count": 20,
   "id": "28c7d0d3-408d-4796-8de8-f9d9d1aac85d",
   "metadata": {},
   "outputs": [],
   "source": [
    "# Create gpb data\n",
    "train = gpb.Dataset(X_train, y_train)\n",
    "test = gpb.Dataset(X_test, y_test)"
   ]
  },
  {
   "cell_type": "code",
   "execution_count": 21,
   "id": "373391c1-dfee-4268-a9a5-e2fba68f6726",
   "metadata": {},
   "outputs": [],
   "source": [
    "# Create random effects model\n",
    "gp_model = gpb.GPModel(\n",
    "        group_data = G_train,\n",
    "        likelihood = \"gaussian\",\n",
    "        seed = random_state\n",
    "    )"
   ]
  },
  {
   "cell_type": "code",
   "execution_count": 22,
   "id": "4f04c7db-a139-440d-84bc-23fe4b04dd24",
   "metadata": {},
   "outputs": [],
   "source": [
    "# Create params dict\n",
    "params = {\n",
    "    \"random_state\": random_state,\n",
    "    \"n_estimators\": int(best_tune[\"user_attrs_n_rounds\"]),\n",
    "    \"num_leaves\": best_tune[\"params_num_leaves\"],\n",
    "    \"min_child_samples\": best_tune[\"params_min_child_samples\"],\n",
    "    \"learning_rate\": best_tune[\"params_learning_rate\"],\n",
    "    \"min_child_weight\": best_tune[\"params_min_child_weight\"],\n",
    "    \"reg_alpha\": best_tune[\"params_l1_reg\"],\n",
    "    \"reg_lambda\": best_tune[\"params_l2_reg\"],\n",
    "    \"colsample_bytree\": best_tune[\"params_colsample_bytree\"]\n",
    "}"
   ]
  },
  {
   "cell_type": "code",
   "execution_count": 23,
   "id": "3023ffc4-b024-4953-8cb5-efbc30407da5",
   "metadata": {},
   "outputs": [
    {
     "name": "stderr",
     "output_type": "stream",
     "text": [
      "Found `n_estimators` in params. Will use it instead of argument\n"
     ]
    },
    {
     "name": "stdout",
     "output_type": "stream",
     "text": [
      "[GPBoost] [Info] Total Bins 3127\n",
      "[GPBoost] [Info] Number of data points in the train set: 88345, number of used features: 29\n",
      "[GPBoost] [Info] [GPBoost with gaussian likelihood]: initscore=2816.359805\n",
      "[GPBoost] [Info] Start training from score 2816.359805\n"
     ]
    }
   ],
   "source": [
    "# Train booster\n",
    "model = gpb.train(\n",
    "    params = params,\n",
    "    train_set = train,\n",
    "    gp_model = gp_model\n",
    ")"
   ]
  },
  {
   "cell_type": "code",
   "execution_count": 24,
   "id": "4d4f7ca8-4535-4832-9b49-6a406d0f758a",
   "metadata": {},
   "outputs": [],
   "source": [
    "# Make predictions on test data\n",
    "preds = model.predict(X_test, group_data_pred = G_test, predict_var = True, pred_latent = True)"
   ]
  },
  {
   "cell_type": "code",
   "execution_count": 25,
   "id": "76f1ca70-a660-4871-a909-c329d385c35c",
   "metadata": {},
   "outputs": [
    {
     "data": {
      "text/plain": [
       "{'fixed_effect': array([2818.117402, 2817.648017, 2817.889473, 2817.443853, 2818.441093,\n",
       "        2817.262527, 2816.273586, ..., 2814.908918, 2815.176515,\n",
       "        2814.513033, 2814.899992, 2816.299467, 2815.995963, 2815.700643]),\n",
       " 'random_effect_mean': array([-0.302843, -0.853709,  1.772847, -1.235796,  0.30289 ,  0.406613,\n",
       "        -0.782142, ..., -0.75435 , -0.537814, -2.090851,  0.159226,\n",
       "         0.072792, -1.916346, -1.508099]),\n",
       " 'random_effect_cov': array([41.506851, 41.560728, 41.5116  , 41.552796, 41.521099, 41.473644,\n",
       "        41.557555, ..., 41.519516, 41.522683, 41.476804, 41.451536,\n",
       "        41.423145, 41.510017, 41.484707]),\n",
       " 'response_mean': None,\n",
       " 'response_var': None}"
      ]
     },
     "execution_count": 25,
     "metadata": {},
     "output_type": "execute_result"
    }
   ],
   "source": [
    "preds"
   ]
  },
  {
   "cell_type": "code",
   "execution_count": 26,
   "id": "ae610f12-d4f3-4277-ae65-0ba2f6502cab",
   "metadata": {},
   "outputs": [],
   "source": [
    "# Combine back with test data\n",
    "df_pred = X_test.copy()\n",
    "df_pred[\"fixed\"] = preds['fixed_effect']\n",
    "df_pred[\"random\"] = preds[\"random_effect_mean\"]\n",
    "df_pred[\"random_sd\"] = np.sqrt(preds[\"random_effect_cov\"])\n",
    "df_pred[\"preds\"] = df_pred[\"fixed\"] + df_pred[\"random\"]\n",
    "df_pred[\"actual\"] = y_test\n",
    "df_pred[\"residual\"] = y_test - df_pred[\"preds\"]"
   ]
  },
  {
   "cell_type": "code",
   "execution_count": 27,
   "id": "a8d9cfff-aaaf-43e3-8f36-ddac0f424b45",
   "metadata": {},
   "outputs": [
    {
     "name": "stdout",
     "output_type": "stream",
     "text": [
      "RMSE:\n",
      "1129.8846664522835\n",
      "MAPE:\n",
      "0.3001082256187391\n"
     ]
    }
   ],
   "source": [
    "# Calculate RMSE, MAPE\n",
    "print(\"RMSE:\")\n",
    "print(mean_squared_error(df_pred[\"actual\"], df_pred[\"preds\"], squared = False))\n",
    "\n",
    "print(\"MAPE:\")\n",
    "print(mean_absolute_percentage_error(df_pred[\"actual\"], df_pred[\"preds\"]))"
   ]
  },
  {
   "cell_type": "code",
   "execution_count": 28,
   "id": "92d88b61-f737-4bfb-ad04-62c50c359972",
   "metadata": {},
   "outputs": [
    {
     "name": "stdout",
     "output_type": "stream",
     "text": [
      "RMSE:\n",
      "1130.317534064648\n",
      "MAPE:\n",
      "0.30025661759554034\n"
     ]
    }
   ],
   "source": [
    "# Predict with random effect only for comparison\n",
    "re_model = gpb.GPModel(\n",
    "        group_data = G_train,\n",
    "        likelihood = \"gaussian\",\n",
    "        seed = random_state\n",
    "    )\n",
    "re_model.fit(y = y_train, X = np.ones(y_train.shape)) # Fixed intercept + group RE\n",
    "preds_re = re_model.predict(X_pred = np.ones(y_test.shape), group_data_pred = G_test, predict_var = True)\n",
    "print(\"RMSE:\")\n",
    "print(mean_squared_error(y_test, preds_re[\"mu\"], squared = False))\n",
    "\n",
    "print(\"MAPE:\")\n",
    "print(mean_absolute_percentage_error(y_test, preds_re[\"mu\"]))"
   ]
  },
  {
   "cell_type": "code",
   "execution_count": 29,
   "id": "3fdfc07f-e862-4841-9555-b4bfedeedd81",
   "metadata": {},
   "outputs": [
    {
     "data": {
      "text/plain": [
       "count   22087.000000\n",
       "mean     2816.406560\n",
       "std         0.897922\n",
       "min      2814.340145\n",
       "25%      2815.739694\n",
       "50%      2816.311531\n",
       "75%      2817.015261\n",
       "max      2819.337500\n",
       "Name: fixed, dtype: float64"
      ]
     },
     "execution_count": 29,
     "metadata": {},
     "output_type": "execute_result"
    }
   ],
   "source": [
    "# Range (lack thereof) of fixed effect predictions\n",
    "df_pred[\"fixed\"].describe()"
   ]
  },
  {
   "cell_type": "code",
   "execution_count": 30,
   "id": "b2dd0b15-b9ac-4c64-b5f5-f56537d0a4a2",
   "metadata": {},
   "outputs": [
    {
     "data": {
      "text/plain": [
       "count   22087.000000\n",
       "mean        0.014970\n",
       "std         1.200202\n",
       "min        -3.005353\n",
       "25%        -0.835640\n",
       "50%        -0.017573\n",
       "75%         0.822253\n",
       "max         3.172273\n",
       "Name: random, dtype: float64"
      ]
     },
     "execution_count": 30,
     "metadata": {},
     "output_type": "execute_result"
    }
   ],
   "source": [
    "# Range of random effect predictions\n",
    "df_pred[\"random\"].describe()"
   ]
  },
  {
   "cell_type": "code",
   "execution_count": 36,
   "id": "9eef9048-3b73-4a7f-add1-3887bbeb69ce",
   "metadata": {},
   "outputs": [
    {
     "data": {
      "text/plain": [
       "2816.359805308733"
      ]
     },
     "execution_count": 36,
     "metadata": {},
     "output_type": "execute_result"
    }
   ],
   "source": [
    "# Target mean in training data\n",
    "y_train.mean()"
   ]
  },
  {
   "cell_type": "code",
   "execution_count": 31,
   "id": "013eb645-228d-4a92-8980-fb894fe44cee",
   "metadata": {},
   "outputs": [
    {
     "data": {
      "image/png": "[encoded data removed]",
      "text/plain": [
       "<Figure size 500x500 with 1 Axes>"
      ]
     },
     "metadata": {},
     "output_type": "display_data"
    }
   ],
   "source": [
    "# Plot predicted vs. actual\n",
    "_ = sns.displot(x = df_pred[\"actual\"],  y = df_pred[\"preds\"])\n",
    "_ = plt.plot([0, high_end], [0, high_end], c = \"red\")\n",
    "_ = plt.xlim(0, high_end + 500)\n",
    "_ = plt.ylim(0, high_end + 500)\n",
    "_ = plt.xlabel(\"actual\")\n",
    "_ = plt.ylabel(\"predicted\")"
   ]
  },
  {
   "cell_type": "code",
   "execution_count": 32,
   "id": "c8c76ba0-6f9c-4fb5-9854-b9ef341752ce",
   "metadata": {},
   "outputs": [
    {
     "data": {
      "image/png": "[encoded data removed]",
      "text/plain": [
       "<Figure size 500x500 with 1 Axes>"
      ]
     },
     "metadata": {},
     "output_type": "display_data"
    }
   ],
   "source": [
    "# Residual distribution\n",
    "_ = sns.displot(df_pred[\"residual\"])\n",
    "_ = plt.title(\"residual distribution\")"
   ]
  },
  {
   "cell_type": "code",
   "execution_count": 33,
   "id": "018c980a-87b0-4247-9c7f-24f295abc450",
   "metadata": {},
   "outputs": [
    {
     "data": {
      "image/png": "[encoded data removed]",
      "text/plain": [
       "<Figure size 500x500 with 1 Axes>"
      ]
     },
     "metadata": {},
     "output_type": "display_data"
    }
   ],
   "source": [
    "# Predicted vs residual\n",
    "low_end = min(df_pred.residual)\n",
    "max_resids = max(df_pred.residual)\n",
    "_ = sns.displot(data = df_pred, x = \"preds\", y= \"residual\")\n",
    "_ = plt.plot([0, max_resids], [0, 0], c = \"red\")\n",
    "_ = plt.xlim(0, max_resids + 500)\n",
    "_ = plt.ylim(low_end - 500, max_resids + 500)\n",
    "_ = plt.xlabel(\"predicted\")\n",
    "_ = plt.ylabel(\"residual\")"
   ]
  },
  {
   "cell_type": "code",
   "execution_count": 34,
   "id": "ea5dfd3b-a352-4b6c-adcc-e2f249fd9d67",
   "metadata": {},
   "outputs": [
    {
     "name": "stdout",
     "output_type": "stream",
     "text": [
      "=====================================================\n",
      "Covariance parameters (random effects):\n",
      "                   Param.\n",
      "Error_term 1088628.546400\n",
      "Group_1         42.980100\n",
      "=====================================================\n"
     ]
    },
    {
     "data": {
      "text/plain": [
       "<gpboost.basic.GPModel at 0x1fc30b2e530>"
      ]
     },
     "execution_count": 34,
     "metadata": {},
     "output_type": "execute_result"
    }
   ],
   "source": [
    "# Random effects model summary for GPBoost\n",
    "gp_model.summary()"
   ]
  },
  {
   "cell_type": "code",
   "execution_count": 35,
   "id": "3eb6ef6e-51ae-4f9b-b611-f59da62b920c",
   "metadata": {},
   "outputs": [
    {
     "name": "stdout",
     "output_type": "stream",
     "text": [
      "=====================================================\n",
      "Model summary:\n",
      "       Log-lik            AIC            BIC\n",
      "-739418.100000 1478842.200000 1478870.370000\n",
      "Nb. observations: 88345\n",
      "Nb. groups: 100 (Group_1)\n",
      "-----------------------------------------------------\n",
      "Covariance parameters (random effects):\n",
      "                   Param.\n",
      "Error_term 1089507.218100\n",
      "Group_1        223.068800\n",
      "-----------------------------------------------------\n",
      "Linear regression coefficients (fixed effects):\n",
      "                 Param.\n",
      "Covariate_1 2816.360300\n",
      "=====================================================\n"
     ]
    },
    {
     "data": {
      "text/plain": [
       "<gpboost.basic.GPModel at 0x1fc3133a110>"
      ]
     },
     "execution_count": 35,
     "metadata": {},
     "output_type": "execute_result"
    }
   ],
   "source": [
    "# RE only model summary\n",
    "re_model.summary()"
   ]
  },
  {
   "cell_type": "markdown",
   "id": "6e998f85-7b95-43bf-bb95-41caae5ccf43",
   "metadata": {},
   "source": [
    "# Findings\n",
    "- The fixed effects model predicts the target mean, and random effects predictions are close to zero. Which means the latter is working properly, but not the former.\n",
    "- The tuning rounds each trained for the maximum of 5000 rounds, though their scores are practically the same. This means there was a minimal improvement in every single round."
   ]
  }
 ],
 "metadata": {
  "kernelspec": {
   "display_name": "Python 3 (ipykernel)",
   "language": "python",
   "name": "python3"
  },
  "language_info": {
   "codemirror_mode": {
    "name": "ipython",
    "version": 3
   },
   "file_extension": ".py",
   "mimetype": "text/x-python",
   "name": "python",
   "nbconvert_exporter": "python",
   "pygments_lexer": "ipython3",
   "version": "3.10.8"
  }
 },
 "nbformat": 4,
 "nbformat_minor": 5
}
