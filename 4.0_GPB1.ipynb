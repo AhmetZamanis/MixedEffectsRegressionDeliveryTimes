{
 "cells": [
  {
   "cell_type": "markdown",
   "id": "bc50aad2-52c8-4cb3-bf65-cb4d0e5a90a7",
   "metadata": {},
   "source": [
    "Notebook objective: Tune & test GPBoost model with LGBM booster and a random intercept for store_id."
   ]
  },
  {
   "cell_type": "code",
   "execution_count": 1,
   "id": "cbc33597-a506-4de3-8f4c-5547bd6d44ae",
   "metadata": {},
   "outputs": [
    {
     "name": "stderr",
     "output_type": "stream",
     "text": [
      "IProgress not found. Please update jupyter and ipywidgets. See https://ipywidgets.readthedocs.io/en/stable/user_install.html\n"
     ]
    }
   ],
   "source": [
    "import pandas as pd\n",
    "import numpy as np\n",
    "import matplotlib.pyplot as plt\n",
    "import seaborn as sns\n",
    "import shap\n",
    "import optuna\n",
    "\n",
    "from category_encoders.target_encoder import TargetEncoder\n",
    "from sklearn.pipeline import Pipeline\n",
    "from sklearn.metrics import mean_squared_error, mean_absolute_percentage_error\n",
    "import gpboost as gpb"
   ]
  },
  {
   "cell_type": "code",
   "execution_count": 2,
   "id": "82f77199-a3e0-47c3-a12a-043c5231fd93",
   "metadata": {},
   "outputs": [],
   "source": [
    "# Set print options\n",
    "np.set_printoptions(suppress=True, precision=6, edgeitems = 7)\n",
    "pd.options.display.float_format = '{:.6f}'.format\n",
    "pd.set_option('display.max_columns', None)"
   ]
  },
  {
   "cell_type": "markdown",
   "id": "c95e9fad-1be1-4116-b487-1567e7279536",
   "metadata": {},
   "source": [
    "# Preprocessing"
   ]
  },
  {
   "cell_type": "code",
   "execution_count": 3,
   "id": "a23c8862-6788-4f6b-8a36-ed4bde4a5a91",
   "metadata": {},
   "outputs": [],
   "source": [
    "random_state = 1923"
   ]
  },
  {
   "cell_type": "code",
   "execution_count": 4,
   "id": "a5900f5f-0604-43c5-b163-d4f364cc27f2",
   "metadata": {},
   "outputs": [],
   "source": [
    "# Read data\n",
    "df = pd.read_csv(\"./InputData/full_data.csv\")"
   ]
  },
  {
   "cell_type": "code",
   "execution_count": 5,
   "id": "8ef8a2f9-6571-4ddc-a328-f2de62cb616b",
   "metadata": {},
   "outputs": [],
   "source": [
    "# Reindex data from 0:N\n",
    "df = df.reset_index(drop = True)"
   ]
  },
  {
   "cell_type": "code",
   "execution_count": 6,
   "id": "3c46f396-0e6b-4172-b2f7-9655b828d9f5",
   "metadata": {},
   "outputs": [],
   "source": [
    "# Drop rows with too high duration\n",
    "high_end = 10800 # 3 hours\n",
    "df = df[df[\"duration\"] <= high_end]"
   ]
  },
  {
   "cell_type": "code",
   "execution_count": 7,
   "id": "bc0906e1-6a9d-48e2-9d62-673c32c868c9",
   "metadata": {},
   "outputs": [],
   "source": [
    "# Split features & target, drop non-feature columns\n",
    "X = df.drop([\"created_at\", \"actual_delivery_time\", \"duration\"], axis = 1)\n",
    "y = df.duration"
   ]
  },
  {
   "cell_type": "code",
   "execution_count": 8,
   "id": "93ab1251-e3f6-441a-ae92-8a5aef3aebb7",
   "metadata": {},
   "outputs": [],
   "source": [
    "# Split features & group variables\n",
    "G = X[\"store_id\"]\n",
    "X = X.drop([\"store_id\"], axis = 1)"
   ]
  },
  {
   "cell_type": "code",
   "execution_count": 9,
   "id": "dbab0605-a3e4-46a2-a24a-85a41b9e9da6",
   "metadata": {},
   "outputs": [],
   "source": [
    "# Enforce dtype of group variables\n",
    "G = G.astype(\"str\") "
   ]
  },
  {
   "cell_type": "code",
   "execution_count": 10,
   "id": "53d09f8e-2271-49f4-89a7-c3f28f9d1bfc",
   "metadata": {},
   "outputs": [],
   "source": [
    "train_end = int(len(df) * 0.6)"
   ]
  },
  {
   "cell_type": "code",
   "execution_count": 11,
   "id": "871f4a04-b237-4cf2-92e0-eb65950b63a4",
   "metadata": {},
   "outputs": [],
   "source": [
    "val_end = train_end + int(len(df) * 0.2)"
   ]
  },
  {
   "cell_type": "code",
   "execution_count": 12,
   "id": "45363f4b-00d7-4d9d-b3e0-87c520404996",
   "metadata": {},
   "outputs": [],
   "source": [
    "# Train - val - test split, 60 - 20 - 20\n",
    "X_train, X_val, X_test = X[:train_end], X[train_end:val_end], X[val_end:]\n",
    "G_train, G_val, G_test = G[:train_end], G[train_end:val_end], G[val_end:]\n",
    "y_train, y_val, y_test = y[:train_end], y[train_end:val_end], y[val_end:]"
   ]
  },
  {
   "cell_type": "code",
   "execution_count": 13,
   "id": "1dfc931e-f94a-4d97-a894-bb23216c3f41",
   "metadata": {},
   "outputs": [],
   "source": [
    "# Target encoder for non-group categoricals, without hierarchy\n",
    "encoder = TargetEncoder(cols = [\"market_id\", \"order_protocol\", \"store_primary_category\"])"
   ]
  },
  {
   "cell_type": "code",
   "execution_count": 14,
   "id": "b6157e7f-e56c-4b0f-ad8a-ea63dc37712b",
   "metadata": {},
   "outputs": [],
   "source": [
    "# Preprocess data\n",
    "X_train = encoder.fit_transform(X_train, y_train)\n",
    "X_val = encoder.transform(X_val)\n",
    "X_test = encoder.transform(X_test)"
   ]
  },
  {
   "cell_type": "markdown",
   "id": "8e41ccc6-0200-4613-b6b4-607663d2260f",
   "metadata": {},
   "source": [
    "# Hyperparameter tuning"
   ]
  },
  {
   "cell_type": "code",
   "execution_count": 18,
   "id": "be6eb57e-374a-49f6-a5ab-a3d72b64c4cf",
   "metadata": {},
   "outputs": [],
   "source": [
    "# Objective function\n",
    "def objective_gpb(trial):\n",
    "\n",
    "    # Define hyperparameter space\n",
    "    learning_rate = trial.suggest_float(\"learning_rate\", 0.05, 0.5)\n",
    "    num_leaves = trial.suggest_int(\"num_leaves\", 2**2, 2**10)\n",
    "    #max_depth = trial.suggest_int(\"max_depth\", 2, 20) # Max depth of 20 is too restrictive for LightGBM\n",
    "    min_child_samples = trial.suggest_int(\"min_child_samples\", 10, 1000, log = True)\n",
    "    min_child_weight = trial.suggest_float(\"min_child_weight\", 0.001, 20, log = True)\n",
    "    reg_alpha = trial.suggest_float(\"l1_reg\", 0, 1)\n",
    "    reg_lambda = trial.suggest_float(\"l2_reg\", 0, 2)\n",
    "    colsample_bytree = trial.suggest_float(\"colsample_bytree\", 0.25, 1)\n",
    "\n",
    "    # Create model\n",
    "    #callbacks = [gpb.early_stopping(50)]\n",
    "    \n",
    "    model = gpb.GPBoostRegressor(\n",
    "        n_jobs = 10,\n",
    "        #device_type = \"gpu\",\n",
    "        n_estimators = 5000,\n",
    "        num_leaves = num_leaves,\n",
    "        random_state = random_state,\n",
    "        #max_depth = max_depth,\n",
    "        max_depth = -1,\n",
    "        min_child_samples = min_child_samples,\n",
    "        learning_rate = learning_rate,\n",
    "        min_child_weight = min_child_weight,\n",
    "        reg_alpha = reg_alpha,\n",
    "        reg_lambda = reg_lambda,\n",
    "        colsample_bytree = colsample_bytree\n",
    "    )\n",
    "\n",
    "    # Create random effects model\n",
    "    gp_model = gpb.GPModel(\n",
    "        group_data = G_train, # Random intercepts for each group\n",
    "        likelihood = \"gaussian\",\n",
    "        seed = random_state\n",
    "    )\n",
    "    gp_model.set_prediction_data(group_data_pred = G_val)\n",
    "\n",
    "    # Train model with early stopping\n",
    "    model.fit(\n",
    "        X_train, \n",
    "        y_train,\n",
    "        gp_model = gp_model, \n",
    "        eval_set = [(X_val, y_val)],\n",
    "        early_stopping_rounds = 50,\n",
    "        #callbacks = callbacks,\n",
    "        verbose = False)\n",
    "\n",
    "    # Report best number of rounds\n",
    "    trial.set_user_attr(\"n_rounds\", (model.best_iteration_ + 1))\n",
    "    \n",
    "    return model.best_score_['valid_0']['l2']\n"
   ]
  },
  {
   "cell_type": "code",
   "execution_count": 19,
   "id": "f9f1ff10-92a0-4eea-841f-72fc536b2fb3",
   "metadata": {},
   "outputs": [],
   "source": [
    "# Create study\n",
    "study_gpb = optuna.create_study(\n",
    "  sampler = optuna.samplers.TPESampler(seed = random_state),\n",
    "  study_name = \"tune_gpb\",\n",
    "  direction = \"minimize\"\n",
    ")"
   ]
  },
  {
   "cell_type": "code",
   "execution_count": null,
   "id": "c69c93b3-cb11-4a4c-b746-193ee25cbe5b",
   "metadata": {},
   "outputs": [],
   "source": [
    "# Perform study\n",
    "optuna.logging.set_verbosity(optuna.logging.WARNING)\n",
    "study_gpb.optimize(\n",
    "  objective_gpb, \n",
    "  n_trials = 1000,\n",
    "  show_progress_bar = True)"
   ]
  },
  {
   "cell_type": "code",
   "execution_count": 21,
   "id": "3078a593-9600-4db0-9240-0dc258b7d0a6",
   "metadata": {},
   "outputs": [],
   "source": [
    "# Save tuning log\n",
    "trials_gpb = study_gpb.trials_dataframe().sort_values(\"value\", ascending = True)\n",
    "trials_gpb.to_csv(\"./ModifiedData/trials_gpb1.csv\", index = False)"
   ]
  },
  {
   "cell_type": "markdown",
   "id": "e754ada9-1f3e-4112-8996-b4782c3e117e",
   "metadata": {},
   "source": [
    "# Testing & diagnostics"
   ]
  },
  {
   "cell_type": "code",
   "execution_count": 15,
   "id": "ca1efc65-44a2-4bdf-bb9b-9c389dc385c2",
   "metadata": {},
   "outputs": [],
   "source": [
    "# Load best tune\n",
    "best_tune = pd.read_csv(\"./ModifiedData/trials_gpb1.csv\").iloc[0]"
   ]
  },
  {
   "cell_type": "code",
   "execution_count": 16,
   "id": "8133bb23-ba38-49ac-aaf8-0dace2ac016d",
   "metadata": {},
   "outputs": [
    {
     "data": {
      "text/plain": [
       "number                                             282\n",
       "value                                    887483.424186\n",
       "datetime_start              2023-11-30 17:53:08.686245\n",
       "datetime_complete           2023-11-30 17:53:15.629138\n",
       "duration                        0 days 00:00:06.942893\n",
       "params_colsample_bytree                       0.966814\n",
       "params_l1_reg                                 0.000750\n",
       "params_l2_reg                                 0.619010\n",
       "params_learning_rate                          0.982759\n",
       "params_min_child_samples                            17\n",
       "params_min_child_weight                       0.049613\n",
       "params_num_leaves                                  522\n",
       "user_attrs_n_rounds                                301\n",
       "state                                         COMPLETE\n",
       "Name: 0, dtype: object"
      ]
     },
     "execution_count": 16,
     "metadata": {},
     "output_type": "execute_result"
    }
   ],
   "source": [
    "best_tune"
   ]
  },
  {
   "cell_type": "code",
   "execution_count": 17,
   "id": "2bd071aa-2cee-4e4d-83b4-62d44309fb37",
   "metadata": {},
   "outputs": [],
   "source": [
    "# Combine train & validation data\n",
    "X_train, X_test = X[:val_end], X[val_end:]\n",
    "G_train, G_test = G[:val_end], G[val_end:]\n",
    "y_train, y_test = y[:val_end], y[val_end:]"
   ]
  },
  {
   "cell_type": "code",
   "execution_count": 18,
   "id": "dee21f03-ede1-49dc-bd33-1f789b0dadb5",
   "metadata": {},
   "outputs": [],
   "source": [
    "# Preprocess data\n",
    "X_train = encoder.fit_transform(X_train, y_train)\n",
    "X_test = encoder.transform(X_test)"
   ]
  },
  {
   "cell_type": "code",
   "execution_count": 19,
   "id": "28c7d0d3-408d-4796-8de8-f9d9d1aac85d",
   "metadata": {},
   "outputs": [],
   "source": [
    "# Create gpb data\n",
    "train = gpb.Dataset(X_train, y_train)\n",
    "test = gpb.Dataset(X_test, y_test)"
   ]
  },
  {
   "cell_type": "code",
   "execution_count": 20,
   "id": "373391c1-dfee-4268-a9a5-e2fba68f6726",
   "metadata": {},
   "outputs": [],
   "source": [
    "# Create random effects model\n",
    "gp_model = gpb.GPModel(\n",
    "        group_data = G_train,\n",
    "        likelihood = \"gaussian\",\n",
    "        seed = random_state\n",
    "    )"
   ]
  },
  {
   "cell_type": "code",
   "execution_count": 21,
   "id": "4f04c7db-a139-440d-84bc-23fe4b04dd24",
   "metadata": {},
   "outputs": [],
   "source": [
    "# Create params dict\n",
    "params = {\n",
    "    \"random_state\": random_state,\n",
    "    \"n_estimators\": int(best_tune[\"user_attrs_n_rounds\"]),\n",
    "    \"num_leaves\": best_tune[\"params_num_leaves\"],\n",
    "    \"min_child_samples\": best_tune[\"params_min_child_samples\"],\n",
    "    \"learning_rate\": best_tune[\"params_learning_rate\"],\n",
    "    \"min_child_weight\": best_tune[\"params_min_child_weight\"],\n",
    "    \"reg_alpha\": best_tune[\"params_l1_reg\"],\n",
    "    \"reg_lambda\": best_tune[\"params_l2_reg\"],\n",
    "    \"colsample_bytree\": best_tune[\"params_colsample_bytree\"]\n",
    "}"
   ]
  },
  {
   "cell_type": "code",
   "execution_count": 22,
   "id": "3023ffc4-b024-4953-8cb5-efbc30407da5",
   "metadata": {},
   "outputs": [
    {
     "name": "stderr",
     "output_type": "stream",
     "text": [
      "Found `n_estimators` in params. Will use it instead of argument\n"
     ]
    },
    {
     "name": "stdout",
     "output_type": "stream",
     "text": [
      "[GPBoost] [Info] Total Bins 2872\n",
      "[GPBoost] [Info] Number of data points in the train set: 88345, number of used features: 28\n",
      "[GPBoost] [Info] [GPBoost with gaussian likelihood]: initscore=2816.359805\n",
      "[GPBoost] [Info] Start training from score 2816.359805\n"
     ]
    }
   ],
   "source": [
    "# Train booster\n",
    "model = gpb.train(\n",
    "    params = params,\n",
    "    train_set = train,\n",
    "    gp_model = gp_model\n",
    ")"
   ]
  },
  {
   "cell_type": "code",
   "execution_count": 23,
   "id": "4d4f7ca8-4535-4832-9b49-6a406d0f758a",
   "metadata": {},
   "outputs": [],
   "source": [
    "# Make predictions on test data\n",
    "preds = model.predict(X_test, group_data_pred = G_test, predict_var = True, pred_latent = True)"
   ]
  },
  {
   "cell_type": "code",
   "execution_count": 24,
   "id": "76f1ca70-a660-4871-a909-c329d385c35c",
   "metadata": {},
   "outputs": [
    {
     "data": {
      "text/plain": [
       "{'fixed_effect': array([2816.668314, 2816.478438, 2816.668314, 2816.530941, 2816.592148,\n",
       "        2816.472468, 2816.469655, ..., 2816.145184, 2816.09351 ,\n",
       "        2816.096598, 2816.095337, 2816.206237, 2816.2366  , 2816.27927 ]),\n",
       " 'random_effect_mean': array([-105.701641,  342.576364, -230.428468,  277.634123,  106.005409,\n",
       "         232.589183, -100.774798, ..., -288.471154,  161.258231,\n",
       "        -537.464694, -148.839928,  568.916364,  717.495377, -105.701641]),\n",
       " 'random_effect_cov': array([  2427.64124 ,  27089.343069,  27906.323561,  18087.429566,\n",
       "         24902.242406,  45903.363103,   3626.439386, ...,  38302.802362,\n",
       "         29697.608554,  15910.39007 ,  43733.799898, 101040.235699,\n",
       "         82929.23    ,   2427.64124 ]),\n",
       " 'response_mean': None,\n",
       " 'response_var': None}"
      ]
     },
     "execution_count": 24,
     "metadata": {},
     "output_type": "execute_result"
    }
   ],
   "source": [
    "preds"
   ]
  },
  {
   "cell_type": "code",
   "execution_count": 25,
   "id": "ae610f12-d4f3-4277-ae65-0ba2f6502cab",
   "metadata": {},
   "outputs": [],
   "source": [
    "# Combine back with test data\n",
    "df_pred = X_test.copy()\n",
    "df_pred[\"fixed\"] = preds['fixed_effect']\n",
    "df_pred[\"random\"] = preds[\"random_effect_mean\"]\n",
    "df_pred[\"random_sd\"] = np.sqrt(preds[\"random_effect_cov\"])\n",
    "df_pred[\"preds\"] = df_pred[\"fixed\"] + df_pred[\"random\"]\n",
    "df_pred[\"actual\"] = y_test\n",
    "df_pred[\"residual\"] = y_test - df_pred[\"preds\"]"
   ]
  },
  {
   "cell_type": "code",
   "execution_count": 26,
   "id": "a8d9cfff-aaaf-43e3-8f36-ddac0f424b45",
   "metadata": {},
   "outputs": [
    {
     "name": "stdout",
     "output_type": "stream",
     "text": [
      "RMSE:\n",
      "1068.5832068165262\n",
      "MAPE:\n",
      "0.27692967569460764\n"
     ]
    }
   ],
   "source": [
    "# Calculate RMSE, MAPE\n",
    "print(\"RMSE:\")\n",
    "print(mean_squared_error(df_pred[\"actual\"], df_pred[\"preds\"], squared = False))\n",
    "\n",
    "print(\"MAPE:\")\n",
    "print(mean_absolute_percentage_error(df_pred[\"actual\"], df_pred[\"preds\"]))"
   ]
  },
  {
   "cell_type": "code",
   "execution_count": 27,
   "id": "92d88b61-f737-4bfb-ad04-62c50c359972",
   "metadata": {},
   "outputs": [
    {
     "name": "stdout",
     "output_type": "stream",
     "text": [
      "RMSE:\n",
      "1067.597866911963\n",
      "MAPE:\n",
      "0.2774463147055288\n"
     ]
    }
   ],
   "source": [
    "# Predict with random effect only for comparison\n",
    "re_model = gpb.GPModel(\n",
    "        group_data = G_train,\n",
    "        likelihood = \"gaussian\",\n",
    "        seed = random_state\n",
    "    )\n",
    "re_model.fit(y = y_train, X = np.ones(y_train.shape)) # Fixed intercept + group RE\n",
    "preds_re = re_model.predict(X_pred = np.ones(y_test.shape), group_data_pred = G_test, predict_var = True)\n",
    "print(\"RMSE:\")\n",
    "print(mean_squared_error(y_test, preds_re[\"mu\"], squared = False))\n",
    "\n",
    "print(\"MAPE:\")\n",
    "print(mean_absolute_percentage_error(y_test, preds_re[\"mu\"]))"
   ]
  },
  {
   "cell_type": "code",
   "execution_count": 28,
   "id": "3fdfc07f-e862-4841-9555-b4bfedeedd81",
   "metadata": {},
   "outputs": [
    {
     "data": {
      "text/plain": [
       "count   22087.000000\n",
       "mean     2816.366177\n",
       "std         0.158422\n",
       "min      2816.035788\n",
       "25%      2816.251839\n",
       "50%      2816.347520\n",
       "75%      2816.454211\n",
       "max      2817.455453\n",
       "Name: fixed, dtype: float64"
      ]
     },
     "execution_count": 28,
     "metadata": {},
     "output_type": "execute_result"
    }
   ],
   "source": [
    "# Range (lack thereof) of fixed effect predictions\n",
    "df_pred[\"fixed\"].describe()"
   ]
  },
  {
   "cell_type": "code",
   "execution_count": 29,
   "id": "b2dd0b15-b9ac-4c64-b5f5-f56537d0a4a2",
   "metadata": {},
   "outputs": [
    {
     "data": {
      "text/plain": [
       "count   22087.000000\n",
       "mean       -5.464274\n",
       "std       360.139162\n",
       "min      -948.203886\n",
       "25%      -256.238067\n",
       "50%       -42.169596\n",
       "75%       197.004288\n",
       "max      1786.405059\n",
       "Name: random, dtype: float64"
      ]
     },
     "execution_count": 29,
     "metadata": {},
     "output_type": "execute_result"
    }
   ],
   "source": [
    "# Range of random effect predictions\n",
    "df_pred[\"random\"].describe()"
   ]
  },
  {
   "cell_type": "code",
   "execution_count": 30,
   "id": "013eb645-228d-4a92-8980-fb894fe44cee",
   "metadata": {},
   "outputs": [
    {
     "data": {
      "image/png": "[encoded data removed]",
      "text/plain": [
       "<Figure size 500x500 with 1 Axes>"
      ]
     },
     "metadata": {},
     "output_type": "display_data"
    }
   ],
   "source": [
    "# Plot predicted vs. actual\n",
    "_ = sns.displot(x = df_pred[\"actual\"],  y = df_pred[\"preds\"])\n",
    "_ = plt.plot([0, high_end], [0, high_end], c = \"red\")\n",
    "_ = plt.xlim(0, high_end + 500)\n",
    "_ = plt.ylim(0, high_end + 500)\n",
    "_ = plt.xlabel(\"actual\")\n",
    "_ = plt.ylabel(\"predicted\")"
   ]
  },
  {
   "cell_type": "code",
   "execution_count": 33,
   "id": "ea5dfd3b-a352-4b6c-adcc-e2f249fd9d67",
   "metadata": {},
   "outputs": [
    {
     "name": "stdout",
     "output_type": "stream",
     "text": [
      "=====================================================\n",
      "Covariance parameters (random effects):\n",
      "                  Param.\n",
      "Error_term 925314.594300\n",
      "store_id   179398.157200\n",
      "=====================================================\n"
     ]
    },
    {
     "data": {
      "text/plain": [
       "<gpboost.basic.GPModel at 0x1832fd7d570>"
      ]
     },
     "execution_count": 33,
     "metadata": {},
     "output_type": "execute_result"
    }
   ],
   "source": [
    "# Random effects component model summary for GPBoost\n",
    "gp_model.summary()"
   ]
  },
  {
   "cell_type": "code",
   "execution_count": 34,
   "id": "3eb6ef6e-51ae-4f9b-b611-f59da62b920c",
   "metadata": {},
   "outputs": [
    {
     "name": "stdout",
     "output_type": "stream",
     "text": [
      "=====================================================\n",
      "Model summary:\n",
      "       Log-lik            AIC            BIC\n",
      "-734925.020000 1469856.040000 1469884.200000\n",
      "Nb. observations: 88345\n",
      "Nb. groups: 5194 (store_id)\n",
      "-----------------------------------------------------\n",
      "Covariance parameters (random effects):\n",
      "                  Param.\n",
      "Error_term 923242.691800\n",
      "store_id   168377.528800\n",
      "-----------------------------------------------------\n",
      "Linear regression coefficients (fixed effects):\n",
      "                 Param.\n",
      "Covariate_1 2842.130600\n",
      "=====================================================\n"
     ]
    },
    {
     "data": {
      "text/plain": [
       "<gpboost.basic.GPModel at 0x18331829e40>"
      ]
     },
     "execution_count": 34,
     "metadata": {},
     "output_type": "execute_result"
    }
   ],
   "source": [
    "# RE only model summary\n",
    "re_model.summary()"
   ]
  },
  {
   "cell_type": "markdown",
   "id": "db0a600e-a11f-4146-b51c-32b6b70acb4c",
   "metadata": {},
   "source": [
    "# Inference"
   ]
  },
  {
   "cell_type": "code",
   "execution_count": null,
   "id": "f87c8c4d-f566-4709-b88d-53ce5a7d1c99",
   "metadata": {},
   "outputs": [],
   "source": [
    "# Get SHAP values\n",
    "explainer = shap.TreeExplainer(model)\n",
    "shap_values = explainer(X_train)"
   ]
  },
  {
   "cell_type": "code",
   "execution_count": null,
   "id": "c6860ef7-8ed0-4383-9168-93e8a09312ea",
   "metadata": {},
   "outputs": [],
   "source": [
    "# SHAP summary of all features\n",
    "shap.plots.beeswarm(shap_values)"
   ]
  },
  {
   "cell_type": "code",
   "execution_count": null,
   "id": "6d7284c8-3f32-4fdf-9f7e-0ce54182a42b",
   "metadata": {},
   "outputs": [],
   "source": [
    "shap.plots.bar(shap_values)"
   ]
  },
  {
   "cell_type": "code",
   "execution_count": null,
   "id": "b862340b-dee3-4459-bf4b-b8e34260532d",
   "metadata": {},
   "outputs": [],
   "source": [
    "# EXPERIMENTAL: Plot cyclical minute feature's SHAP contributions\n",
    "shap_sin = shap_values[:, \"minute_sin\"].values\n",
    "shap_cos = shap_values[:, \"minute_cos\"].values\n",
    "_ = sns.scatterplot(data = X_train, x = \"minute_sin\", y = \"minute_cos\", hue = (shap_sin + shap_cos))"
   ]
  },
  {
   "cell_type": "markdown",
   "id": "6e998f85-7b95-43bf-bb95-41caae5ccf43",
   "metadata": {},
   "source": [
    "# Findings\n",
    "- Performance worse overall.\n",
    "- The fixed effects from the booster have virtually no effect on the predictions. The random effect makes a -200 + 200 mean contribution mostly.\n",
    "- A random effect only model yields the same predictive performance.\n",
    "- The boosting model parameters make practically zero difference in validation scores. With store_id as a random effect, there may be very little signal left for the booster.\n",
    "- Is the booster not working properly somehow?"
   ]
  }
 ],
 "metadata": {
  "kernelspec": {
   "display_name": "Python 3 (ipykernel)",
   "language": "python",
   "name": "python3"
  },
  "language_info": {
   "codemirror_mode": {
    "name": "ipython",
    "version": 3
   },
   "file_extension": ".py",
   "mimetype": "text/x-python",
   "name": "python",
   "nbconvert_exporter": "python",
   "pygments_lexer": "ipython3",
   "version": "3.10.8"
  }
 },
 "nbformat": 4,
 "nbformat_minor": 5
}
